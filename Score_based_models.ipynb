{
  "nbformat": 4,
  "nbformat_minor": 0,
  "metadata": {
    "colab": {
      "provenance": [],
      "machine_shape": "hm"
    },
    "kernelspec": {
      "name": "python3",
      "display_name": "Python 3"
    },
    "language_info": {
      "name": "python"
    },
    "widgets": {
      "application/vnd.jupyter.widget-state+json": {
        "1c9bd15587144bbfbb0c83663035b80d": {
          "model_module": "@jupyter-widgets/controls",
          "model_name": "HBoxModel",
          "model_module_version": "1.5.0",
          "state": {
            "_dom_classes": [],
            "_model_module": "@jupyter-widgets/controls",
            "_model_module_version": "1.5.0",
            "_model_name": "HBoxModel",
            "_view_count": null,
            "_view_module": "@jupyter-widgets/controls",
            "_view_module_version": "1.5.0",
            "_view_name": "HBoxView",
            "box_style": "",
            "children": [
              "IPY_MODEL_ba5b07c1d7e345159f331b197669eda4",
              "IPY_MODEL_bc07a69b5b324072aea4225f2781949a",
              "IPY_MODEL_129e1fde7d284782b710d0f12cb4d8fd"
            ],
            "layout": "IPY_MODEL_e4b4a0db046346d58b59a3f770b7ca4d"
          }
        },
        "ba5b07c1d7e345159f331b197669eda4": {
          "model_module": "@jupyter-widgets/controls",
          "model_name": "HTMLModel",
          "model_module_version": "1.5.0",
          "state": {
            "_dom_classes": [],
            "_model_module": "@jupyter-widgets/controls",
            "_model_module_version": "1.5.0",
            "_model_name": "HTMLModel",
            "_view_count": null,
            "_view_module": "@jupyter-widgets/controls",
            "_view_module_version": "1.5.0",
            "_view_name": "HTMLView",
            "description": "",
            "description_tooltip": null,
            "layout": "IPY_MODEL_8c5a18ed2827402f93224c365a242bcd",
            "placeholder": "​",
            "style": "IPY_MODEL_b424cd27e26f424e862a647313a001d1",
            "value": "  0%"
          }
        },
        "bc07a69b5b324072aea4225f2781949a": {
          "model_module": "@jupyter-widgets/controls",
          "model_name": "FloatProgressModel",
          "model_module_version": "1.5.0",
          "state": {
            "_dom_classes": [],
            "_model_module": "@jupyter-widgets/controls",
            "_model_module_version": "1.5.0",
            "_model_name": "FloatProgressModel",
            "_view_count": null,
            "_view_module": "@jupyter-widgets/controls",
            "_view_module_version": "1.5.0",
            "_view_name": "ProgressView",
            "bar_style": "danger",
            "description": "",
            "description_tooltip": null,
            "layout": "IPY_MODEL_5deaf92d98a547bb865339e066fb17fb",
            "max": 5000,
            "min": 0,
            "orientation": "horizontal",
            "style": "IPY_MODEL_043fe8cbdc2a4d02ae2a7ac2a07f2de6",
            "value": 2
          }
        },
        "129e1fde7d284782b710d0f12cb4d8fd": {
          "model_module": "@jupyter-widgets/controls",
          "model_name": "HTMLModel",
          "model_module_version": "1.5.0",
          "state": {
            "_dom_classes": [],
            "_model_module": "@jupyter-widgets/controls",
            "_model_module_version": "1.5.0",
            "_model_name": "HTMLModel",
            "_view_count": null,
            "_view_module": "@jupyter-widgets/controls",
            "_view_module_version": "1.5.0",
            "_view_name": "HTMLView",
            "description": "",
            "description_tooltip": null,
            "layout": "IPY_MODEL_82a9e2d235454cbea01d8841c0918942",
            "placeholder": "​",
            "style": "IPY_MODEL_1b9ddccafaa94d5dac6d7c9bff1e1f15",
            "value": " 2/5000 [00:02&lt;1:22:36,  1.01it/s]"
          }
        },
        "e4b4a0db046346d58b59a3f770b7ca4d": {
          "model_module": "@jupyter-widgets/base",
          "model_name": "LayoutModel",
          "model_module_version": "1.2.0",
          "state": {
            "_model_module": "@jupyter-widgets/base",
            "_model_module_version": "1.2.0",
            "_model_name": "LayoutModel",
            "_view_count": null,
            "_view_module": "@jupyter-widgets/base",
            "_view_module_version": "1.2.0",
            "_view_name": "LayoutView",
            "align_content": null,
            "align_items": null,
            "align_self": null,
            "border": null,
            "bottom": null,
            "display": null,
            "flex": null,
            "flex_flow": null,
            "grid_area": null,
            "grid_auto_columns": null,
            "grid_auto_flow": null,
            "grid_auto_rows": null,
            "grid_column": null,
            "grid_gap": null,
            "grid_row": null,
            "grid_template_areas": null,
            "grid_template_columns": null,
            "grid_template_rows": null,
            "height": null,
            "justify_content": null,
            "justify_items": null,
            "left": null,
            "margin": null,
            "max_height": null,
            "max_width": null,
            "min_height": null,
            "min_width": null,
            "object_fit": null,
            "object_position": null,
            "order": null,
            "overflow": null,
            "overflow_x": null,
            "overflow_y": null,
            "padding": null,
            "right": null,
            "top": null,
            "visibility": null,
            "width": null
          }
        },
        "8c5a18ed2827402f93224c365a242bcd": {
          "model_module": "@jupyter-widgets/base",
          "model_name": "LayoutModel",
          "model_module_version": "1.2.0",
          "state": {
            "_model_module": "@jupyter-widgets/base",
            "_model_module_version": "1.2.0",
            "_model_name": "LayoutModel",
            "_view_count": null,
            "_view_module": "@jupyter-widgets/base",
            "_view_module_version": "1.2.0",
            "_view_name": "LayoutView",
            "align_content": null,
            "align_items": null,
            "align_self": null,
            "border": null,
            "bottom": null,
            "display": null,
            "flex": null,
            "flex_flow": null,
            "grid_area": null,
            "grid_auto_columns": null,
            "grid_auto_flow": null,
            "grid_auto_rows": null,
            "grid_column": null,
            "grid_gap": null,
            "grid_row": null,
            "grid_template_areas": null,
            "grid_template_columns": null,
            "grid_template_rows": null,
            "height": null,
            "justify_content": null,
            "justify_items": null,
            "left": null,
            "margin": null,
            "max_height": null,
            "max_width": null,
            "min_height": null,
            "min_width": null,
            "object_fit": null,
            "object_position": null,
            "order": null,
            "overflow": null,
            "overflow_x": null,
            "overflow_y": null,
            "padding": null,
            "right": null,
            "top": null,
            "visibility": null,
            "width": null
          }
        },
        "b424cd27e26f424e862a647313a001d1": {
          "model_module": "@jupyter-widgets/controls",
          "model_name": "DescriptionStyleModel",
          "model_module_version": "1.5.0",
          "state": {
            "_model_module": "@jupyter-widgets/controls",
            "_model_module_version": "1.5.0",
            "_model_name": "DescriptionStyleModel",
            "_view_count": null,
            "_view_module": "@jupyter-widgets/base",
            "_view_module_version": "1.2.0",
            "_view_name": "StyleView",
            "description_width": ""
          }
        },
        "5deaf92d98a547bb865339e066fb17fb": {
          "model_module": "@jupyter-widgets/base",
          "model_name": "LayoutModel",
          "model_module_version": "1.2.0",
          "state": {
            "_model_module": "@jupyter-widgets/base",
            "_model_module_version": "1.2.0",
            "_model_name": "LayoutModel",
            "_view_count": null,
            "_view_module": "@jupyter-widgets/base",
            "_view_module_version": "1.2.0",
            "_view_name": "LayoutView",
            "align_content": null,
            "align_items": null,
            "align_self": null,
            "border": null,
            "bottom": null,
            "display": null,
            "flex": null,
            "flex_flow": null,
            "grid_area": null,
            "grid_auto_columns": null,
            "grid_auto_flow": null,
            "grid_auto_rows": null,
            "grid_column": null,
            "grid_gap": null,
            "grid_row": null,
            "grid_template_areas": null,
            "grid_template_columns": null,
            "grid_template_rows": null,
            "height": null,
            "justify_content": null,
            "justify_items": null,
            "left": null,
            "margin": null,
            "max_height": null,
            "max_width": null,
            "min_height": null,
            "min_width": null,
            "object_fit": null,
            "object_position": null,
            "order": null,
            "overflow": null,
            "overflow_x": null,
            "overflow_y": null,
            "padding": null,
            "right": null,
            "top": null,
            "visibility": null,
            "width": null
          }
        },
        "043fe8cbdc2a4d02ae2a7ac2a07f2de6": {
          "model_module": "@jupyter-widgets/controls",
          "model_name": "ProgressStyleModel",
          "model_module_version": "1.5.0",
          "state": {
            "_model_module": "@jupyter-widgets/controls",
            "_model_module_version": "1.5.0",
            "_model_name": "ProgressStyleModel",
            "_view_count": null,
            "_view_module": "@jupyter-widgets/base",
            "_view_module_version": "1.2.0",
            "_view_name": "StyleView",
            "bar_color": null,
            "description_width": ""
          }
        },
        "82a9e2d235454cbea01d8841c0918942": {
          "model_module": "@jupyter-widgets/base",
          "model_name": "LayoutModel",
          "model_module_version": "1.2.0",
          "state": {
            "_model_module": "@jupyter-widgets/base",
            "_model_module_version": "1.2.0",
            "_model_name": "LayoutModel",
            "_view_count": null,
            "_view_module": "@jupyter-widgets/base",
            "_view_module_version": "1.2.0",
            "_view_name": "LayoutView",
            "align_content": null,
            "align_items": null,
            "align_self": null,
            "border": null,
            "bottom": null,
            "display": null,
            "flex": null,
            "flex_flow": null,
            "grid_area": null,
            "grid_auto_columns": null,
            "grid_auto_flow": null,
            "grid_auto_rows": null,
            "grid_column": null,
            "grid_gap": null,
            "grid_row": null,
            "grid_template_areas": null,
            "grid_template_columns": null,
            "grid_template_rows": null,
            "height": null,
            "justify_content": null,
            "justify_items": null,
            "left": null,
            "margin": null,
            "max_height": null,
            "max_width": null,
            "min_height": null,
            "min_width": null,
            "object_fit": null,
            "object_position": null,
            "order": null,
            "overflow": null,
            "overflow_x": null,
            "overflow_y": null,
            "padding": null,
            "right": null,
            "top": null,
            "visibility": null,
            "width": null
          }
        },
        "1b9ddccafaa94d5dac6d7c9bff1e1f15": {
          "model_module": "@jupyter-widgets/controls",
          "model_name": "DescriptionStyleModel",
          "model_module_version": "1.5.0",
          "state": {
            "_model_module": "@jupyter-widgets/controls",
            "_model_module_version": "1.5.0",
            "_model_name": "DescriptionStyleModel",
            "_view_count": null,
            "_view_module": "@jupyter-widgets/base",
            "_view_module_version": "1.2.0",
            "_view_name": "StyleView",
            "description_width": ""
          }
        },
        "a70aba1b66f349e08ee6122634f55696": {
          "model_module": "@jupyter-widgets/controls",
          "model_name": "HBoxModel",
          "model_module_version": "1.5.0",
          "state": {
            "_dom_classes": [],
            "_model_module": "@jupyter-widgets/controls",
            "_model_module_version": "1.5.0",
            "_model_name": "HBoxModel",
            "_view_count": null,
            "_view_module": "@jupyter-widgets/controls",
            "_view_module_version": "1.5.0",
            "_view_name": "HBoxView",
            "box_style": "",
            "children": [
              "IPY_MODEL_731f391dbf6246ceba382dfb434b8c5c",
              "IPY_MODEL_1673dc3622ea4aa9a7c80c9b05e22f6b",
              "IPY_MODEL_10b2b612cc4b48fdb8d2ed558c9219b7"
            ],
            "layout": "IPY_MODEL_9cdb7d271b2c490bb18378546c5857cc"
          }
        },
        "731f391dbf6246ceba382dfb434b8c5c": {
          "model_module": "@jupyter-widgets/controls",
          "model_name": "HTMLModel",
          "model_module_version": "1.5.0",
          "state": {
            "_dom_classes": [],
            "_model_module": "@jupyter-widgets/controls",
            "_model_module_version": "1.5.0",
            "_model_name": "HTMLModel",
            "_view_count": null,
            "_view_module": "@jupyter-widgets/controls",
            "_view_module_version": "1.5.0",
            "_view_name": "HTMLView",
            "description": "",
            "description_tooltip": null,
            "layout": "IPY_MODEL_26c56f9fde8a4f0ea52ac021fd82445e",
            "placeholder": "​",
            "style": "IPY_MODEL_4e8e9d0a389b4d7cbac228648ec9de50",
            "value": "100%"
          }
        },
        "1673dc3622ea4aa9a7c80c9b05e22f6b": {
          "model_module": "@jupyter-widgets/controls",
          "model_name": "FloatProgressModel",
          "model_module_version": "1.5.0",
          "state": {
            "_dom_classes": [],
            "_model_module": "@jupyter-widgets/controls",
            "_model_module_version": "1.5.0",
            "_model_name": "FloatProgressModel",
            "_view_count": null,
            "_view_module": "@jupyter-widgets/controls",
            "_view_module_version": "1.5.0",
            "_view_name": "ProgressView",
            "bar_style": "success",
            "description": "",
            "description_tooltip": null,
            "layout": "IPY_MODEL_e944de0115454f0bbd4cb8edf28aa72e",
            "max": 5000,
            "min": 0,
            "orientation": "horizontal",
            "style": "IPY_MODEL_7fff407e58ac4224860ee43f278e64b5",
            "value": 5000
          }
        },
        "10b2b612cc4b48fdb8d2ed558c9219b7": {
          "model_module": "@jupyter-widgets/controls",
          "model_name": "HTMLModel",
          "model_module_version": "1.5.0",
          "state": {
            "_dom_classes": [],
            "_model_module": "@jupyter-widgets/controls",
            "_model_module_version": "1.5.0",
            "_model_name": "HTMLModel",
            "_view_count": null,
            "_view_module": "@jupyter-widgets/controls",
            "_view_module_version": "1.5.0",
            "_view_name": "HTMLView",
            "description": "",
            "description_tooltip": null,
            "layout": "IPY_MODEL_a4e4a7ae7fc84459a9841ca15378503e",
            "placeholder": "​",
            "style": "IPY_MODEL_67a36c3c6fa741e084ae9ffd01dc3a2c",
            "value": " 5000/5000 [00:05&lt;00:00, 1113.22it/s]"
          }
        },
        "9cdb7d271b2c490bb18378546c5857cc": {
          "model_module": "@jupyter-widgets/base",
          "model_name": "LayoutModel",
          "model_module_version": "1.2.0",
          "state": {
            "_model_module": "@jupyter-widgets/base",
            "_model_module_version": "1.2.0",
            "_model_name": "LayoutModel",
            "_view_count": null,
            "_view_module": "@jupyter-widgets/base",
            "_view_module_version": "1.2.0",
            "_view_name": "LayoutView",
            "align_content": null,
            "align_items": null,
            "align_self": null,
            "border": null,
            "bottom": null,
            "display": null,
            "flex": null,
            "flex_flow": null,
            "grid_area": null,
            "grid_auto_columns": null,
            "grid_auto_flow": null,
            "grid_auto_rows": null,
            "grid_column": null,
            "grid_gap": null,
            "grid_row": null,
            "grid_template_areas": null,
            "grid_template_columns": null,
            "grid_template_rows": null,
            "height": null,
            "justify_content": null,
            "justify_items": null,
            "left": null,
            "margin": null,
            "max_height": null,
            "max_width": null,
            "min_height": null,
            "min_width": null,
            "object_fit": null,
            "object_position": null,
            "order": null,
            "overflow": null,
            "overflow_x": null,
            "overflow_y": null,
            "padding": null,
            "right": null,
            "top": null,
            "visibility": null,
            "width": null
          }
        },
        "26c56f9fde8a4f0ea52ac021fd82445e": {
          "model_module": "@jupyter-widgets/base",
          "model_name": "LayoutModel",
          "model_module_version": "1.2.0",
          "state": {
            "_model_module": "@jupyter-widgets/base",
            "_model_module_version": "1.2.0",
            "_model_name": "LayoutModel",
            "_view_count": null,
            "_view_module": "@jupyter-widgets/base",
            "_view_module_version": "1.2.0",
            "_view_name": "LayoutView",
            "align_content": null,
            "align_items": null,
            "align_self": null,
            "border": null,
            "bottom": null,
            "display": null,
            "flex": null,
            "flex_flow": null,
            "grid_area": null,
            "grid_auto_columns": null,
            "grid_auto_flow": null,
            "grid_auto_rows": null,
            "grid_column": null,
            "grid_gap": null,
            "grid_row": null,
            "grid_template_areas": null,
            "grid_template_columns": null,
            "grid_template_rows": null,
            "height": null,
            "justify_content": null,
            "justify_items": null,
            "left": null,
            "margin": null,
            "max_height": null,
            "max_width": null,
            "min_height": null,
            "min_width": null,
            "object_fit": null,
            "object_position": null,
            "order": null,
            "overflow": null,
            "overflow_x": null,
            "overflow_y": null,
            "padding": null,
            "right": null,
            "top": null,
            "visibility": null,
            "width": null
          }
        },
        "4e8e9d0a389b4d7cbac228648ec9de50": {
          "model_module": "@jupyter-widgets/controls",
          "model_name": "DescriptionStyleModel",
          "model_module_version": "1.5.0",
          "state": {
            "_model_module": "@jupyter-widgets/controls",
            "_model_module_version": "1.5.0",
            "_model_name": "DescriptionStyleModel",
            "_view_count": null,
            "_view_module": "@jupyter-widgets/base",
            "_view_module_version": "1.2.0",
            "_view_name": "StyleView",
            "description_width": ""
          }
        },
        "e944de0115454f0bbd4cb8edf28aa72e": {
          "model_module": "@jupyter-widgets/base",
          "model_name": "LayoutModel",
          "model_module_version": "1.2.0",
          "state": {
            "_model_module": "@jupyter-widgets/base",
            "_model_module_version": "1.2.0",
            "_model_name": "LayoutModel",
            "_view_count": null,
            "_view_module": "@jupyter-widgets/base",
            "_view_module_version": "1.2.0",
            "_view_name": "LayoutView",
            "align_content": null,
            "align_items": null,
            "align_self": null,
            "border": null,
            "bottom": null,
            "display": null,
            "flex": null,
            "flex_flow": null,
            "grid_area": null,
            "grid_auto_columns": null,
            "grid_auto_flow": null,
            "grid_auto_rows": null,
            "grid_column": null,
            "grid_gap": null,
            "grid_row": null,
            "grid_template_areas": null,
            "grid_template_columns": null,
            "grid_template_rows": null,
            "height": null,
            "justify_content": null,
            "justify_items": null,
            "left": null,
            "margin": null,
            "max_height": null,
            "max_width": null,
            "min_height": null,
            "min_width": null,
            "object_fit": null,
            "object_position": null,
            "order": null,
            "overflow": null,
            "overflow_x": null,
            "overflow_y": null,
            "padding": null,
            "right": null,
            "top": null,
            "visibility": null,
            "width": null
          }
        },
        "7fff407e58ac4224860ee43f278e64b5": {
          "model_module": "@jupyter-widgets/controls",
          "model_name": "ProgressStyleModel",
          "model_module_version": "1.5.0",
          "state": {
            "_model_module": "@jupyter-widgets/controls",
            "_model_module_version": "1.5.0",
            "_model_name": "ProgressStyleModel",
            "_view_count": null,
            "_view_module": "@jupyter-widgets/base",
            "_view_module_version": "1.2.0",
            "_view_name": "StyleView",
            "bar_color": null,
            "description_width": ""
          }
        },
        "a4e4a7ae7fc84459a9841ca15378503e": {
          "model_module": "@jupyter-widgets/base",
          "model_name": "LayoutModel",
          "model_module_version": "1.2.0",
          "state": {
            "_model_module": "@jupyter-widgets/base",
            "_model_module_version": "1.2.0",
            "_model_name": "LayoutModel",
            "_view_count": null,
            "_view_module": "@jupyter-widgets/base",
            "_view_module_version": "1.2.0",
            "_view_name": "LayoutView",
            "align_content": null,
            "align_items": null,
            "align_self": null,
            "border": null,
            "bottom": null,
            "display": null,
            "flex": null,
            "flex_flow": null,
            "grid_area": null,
            "grid_auto_columns": null,
            "grid_auto_flow": null,
            "grid_auto_rows": null,
            "grid_column": null,
            "grid_gap": null,
            "grid_row": null,
            "grid_template_areas": null,
            "grid_template_columns": null,
            "grid_template_rows": null,
            "height": null,
            "justify_content": null,
            "justify_items": null,
            "left": null,
            "margin": null,
            "max_height": null,
            "max_width": null,
            "min_height": null,
            "min_width": null,
            "object_fit": null,
            "object_position": null,
            "order": null,
            "overflow": null,
            "overflow_x": null,
            "overflow_y": null,
            "padding": null,
            "right": null,
            "top": null,
            "visibility": null,
            "width": null
          }
        },
        "67a36c3c6fa741e084ae9ffd01dc3a2c": {
          "model_module": "@jupyter-widgets/controls",
          "model_name": "DescriptionStyleModel",
          "model_module_version": "1.5.0",
          "state": {
            "_model_module": "@jupyter-widgets/controls",
            "_model_module_version": "1.5.0",
            "_model_name": "DescriptionStyleModel",
            "_view_count": null,
            "_view_module": "@jupyter-widgets/base",
            "_view_module_version": "1.2.0",
            "_view_name": "StyleView",
            "description_width": ""
          }
        }
      }
    },
    "accelerator": "GPU",
    "gpuClass": "premium"
  },
  "cells": [
    {
      "cell_type": "code",
      "source": [
        "from jax import grad\n",
        "from scipy.stats import norm\n",
        "import numpy as np\n",
        "import matplotlib.pyplot as plt\n",
        "import jax\n",
        "import jax.numpy as jnp\n",
        "from jax import random\n"
      ],
      "metadata": {
        "id": "qr8is7rlvzdt"
      },
      "execution_count": null,
      "outputs": []
    },
    {
      "cell_type": "code",
      "source": [
        "# Creating the pdf of normal distribution\n",
        "data = np.arange(-3,3,0.01)\n",
        "pdf = norm.pdf(data , loc = 0 , scale = 1)"
      ],
      "metadata": {
        "id": "BBTPm1RhwvON"
      },
      "execution_count": null,
      "outputs": []
    },
    {
      "cell_type": "code",
      "source": [
        "gaussian_score = grad(norm.logpdf)"
      ],
      "metadata": {
        "id": "qYRXDjIcv53X"
      },
      "execution_count": null,
      "outputs": []
    },
    {
      "cell_type": "code",
      "source": [
        "jnp.asarray([0.0])"
      ],
      "metadata": {
        "colab": {
          "base_uri": "https://localhost:8080/"
        },
        "id": "JwUe_bOmiphC",
        "outputId": "07f377cc-9e8f-4c95-c8c7-afff341fc396"
      },
      "execution_count": null,
      "outputs": [
        {
          "output_type": "execute_result",
          "data": {
            "text/plain": [
              "DeviceArray([0.], dtype=float32)"
            ]
          },
          "metadata": {},
          "execution_count": 17
        }
      ]
    },
    {
      "cell_type": "code",
      "source": [
        "#Attention: one decimal place\n",
        "gaussian_score(jnp.asarray([.0]))"
      ],
      "metadata": {
        "colab": {
          "base_uri": "https://localhost:8080/",
          "height": 675
        },
        "id": "VVLQr9AdxXXf",
        "outputId": "99ecb37e-e7d4-478a-e8ca-a201fa64f42c"
      },
      "execution_count": null,
      "outputs": [
        {
          "output_type": "error",
          "ename": "TracerArrayConversionError",
          "evalue": "ignored",
          "traceback": [
            "\u001b[0;31m---------------------------------------------------------------------------\u001b[0m",
            "\u001b[0;31mUnfilteredStackTrace\u001b[0m                      Traceback (most recent call last)",
            "\u001b[0;32m<ipython-input-15-c096330ec458>\u001b[0m in \u001b[0;36m<module>\u001b[0;34m\u001b[0m\n\u001b[1;32m      1\u001b[0m \u001b[0;31m#Attention: one decimal place\u001b[0m\u001b[0;34m\u001b[0m\u001b[0;34m\u001b[0m\u001b[0;34m\u001b[0m\u001b[0m\n\u001b[0;32m----> 2\u001b[0;31m \u001b[0mgaussian_score\u001b[0m\u001b[0;34m(\u001b[0m\u001b[0mjnp\u001b[0m\u001b[0;34m.\u001b[0m\u001b[0masarray\u001b[0m\u001b[0;34m(\u001b[0m\u001b[0;34m[\u001b[0m\u001b[0;36m.0\u001b[0m\u001b[0;34m]\u001b[0m\u001b[0;34m)\u001b[0m\u001b[0;34m)\u001b[0m\u001b[0;34m\u001b[0m\u001b[0;34m\u001b[0m\u001b[0m\n\u001b[0m",
            "\u001b[0;32m/usr/local/lib/python3.8/dist-packages/jax/_src/traceback_util.py\u001b[0m in \u001b[0;36mreraise_with_filtered_traceback\u001b[0;34m(*args, **kwargs)\u001b[0m\n\u001b[1;32m    161\u001b[0m     \u001b[0;32mtry\u001b[0m\u001b[0;34m:\u001b[0m\u001b[0;34m\u001b[0m\u001b[0;34m\u001b[0m\u001b[0m\n\u001b[0;32m--> 162\u001b[0;31m       \u001b[0;32mreturn\u001b[0m \u001b[0mfun\u001b[0m\u001b[0;34m(\u001b[0m\u001b[0;34m*\u001b[0m\u001b[0margs\u001b[0m\u001b[0;34m,\u001b[0m \u001b[0;34m**\u001b[0m\u001b[0mkwargs\u001b[0m\u001b[0;34m)\u001b[0m\u001b[0;34m\u001b[0m\u001b[0;34m\u001b[0m\u001b[0m\n\u001b[0m\u001b[1;32m    163\u001b[0m     \u001b[0;32mexcept\u001b[0m \u001b[0mException\u001b[0m \u001b[0;32mas\u001b[0m \u001b[0me\u001b[0m\u001b[0;34m:\u001b[0m\u001b[0;34m\u001b[0m\u001b[0;34m\u001b[0m\u001b[0m\n",
            "\u001b[0;32m/usr/local/lib/python3.8/dist-packages/jax/_src/api.py\u001b[0m in \u001b[0;36mgrad_f\u001b[0;34m(*args, **kwargs)\u001b[0m\n\u001b[1;32m   1090\u001b[0m   \u001b[0;32mdef\u001b[0m \u001b[0mgrad_f\u001b[0m\u001b[0;34m(\u001b[0m\u001b[0;34m*\u001b[0m\u001b[0margs\u001b[0m\u001b[0;34m,\u001b[0m \u001b[0;34m**\u001b[0m\u001b[0mkwargs\u001b[0m\u001b[0;34m)\u001b[0m\u001b[0;34m:\u001b[0m\u001b[0;34m\u001b[0m\u001b[0;34m\u001b[0m\u001b[0m\n\u001b[0;32m-> 1091\u001b[0;31m     \u001b[0m_\u001b[0m\u001b[0;34m,\u001b[0m \u001b[0mg\u001b[0m \u001b[0;34m=\u001b[0m \u001b[0mvalue_and_grad_f\u001b[0m\u001b[0;34m(\u001b[0m\u001b[0;34m*\u001b[0m\u001b[0margs\u001b[0m\u001b[0;34m,\u001b[0m \u001b[0;34m**\u001b[0m\u001b[0mkwargs\u001b[0m\u001b[0;34m)\u001b[0m\u001b[0;34m\u001b[0m\u001b[0;34m\u001b[0m\u001b[0m\n\u001b[0m\u001b[1;32m   1092\u001b[0m     \u001b[0;32mreturn\u001b[0m \u001b[0mg\u001b[0m\u001b[0;34m\u001b[0m\u001b[0;34m\u001b[0m\u001b[0m\n",
            "\u001b[0;32m/usr/local/lib/python3.8/dist-packages/jax/_src/traceback_util.py\u001b[0m in \u001b[0;36mreraise_with_filtered_traceback\u001b[0;34m(*args, **kwargs)\u001b[0m\n\u001b[1;32m    161\u001b[0m     \u001b[0;32mtry\u001b[0m\u001b[0;34m:\u001b[0m\u001b[0;34m\u001b[0m\u001b[0;34m\u001b[0m\u001b[0m\n\u001b[0;32m--> 162\u001b[0;31m       \u001b[0;32mreturn\u001b[0m \u001b[0mfun\u001b[0m\u001b[0;34m(\u001b[0m\u001b[0;34m*\u001b[0m\u001b[0margs\u001b[0m\u001b[0;34m,\u001b[0m \u001b[0;34m**\u001b[0m\u001b[0mkwargs\u001b[0m\u001b[0;34m)\u001b[0m\u001b[0;34m\u001b[0m\u001b[0;34m\u001b[0m\u001b[0m\n\u001b[0m\u001b[1;32m    163\u001b[0m     \u001b[0;32mexcept\u001b[0m \u001b[0mException\u001b[0m \u001b[0;32mas\u001b[0m \u001b[0me\u001b[0m\u001b[0;34m:\u001b[0m\u001b[0;34m\u001b[0m\u001b[0;34m\u001b[0m\u001b[0m\n",
            "\u001b[0;32m/usr/local/lib/python3.8/dist-packages/jax/_src/api.py\u001b[0m in \u001b[0;36mvalue_and_grad_f\u001b[0;34m(*args, **kwargs)\u001b[0m\n\u001b[1;32m   1166\u001b[0m     \u001b[0;32mif\u001b[0m \u001b[0;32mnot\u001b[0m \u001b[0mhas_aux\u001b[0m\u001b[0;34m:\u001b[0m\u001b[0;34m\u001b[0m\u001b[0;34m\u001b[0m\u001b[0m\n\u001b[0;32m-> 1167\u001b[0;31m       \u001b[0mans\u001b[0m\u001b[0;34m,\u001b[0m \u001b[0mvjp_py\u001b[0m \u001b[0;34m=\u001b[0m \u001b[0m_vjp\u001b[0m\u001b[0;34m(\u001b[0m\u001b[0mf_partial\u001b[0m\u001b[0;34m,\u001b[0m \u001b[0;34m*\u001b[0m\u001b[0mdyn_args\u001b[0m\u001b[0;34m,\u001b[0m \u001b[0mreduce_axes\u001b[0m\u001b[0;34m=\u001b[0m\u001b[0mreduce_axes\u001b[0m\u001b[0;34m)\u001b[0m\u001b[0;34m\u001b[0m\u001b[0;34m\u001b[0m\u001b[0m\n\u001b[0m\u001b[1;32m   1168\u001b[0m     \u001b[0;32melse\u001b[0m\u001b[0;34m:\u001b[0m\u001b[0;34m\u001b[0m\u001b[0;34m\u001b[0m\u001b[0m\n",
            "\u001b[0;32m/usr/local/lib/python3.8/dist-packages/jax/_src/api.py\u001b[0m in \u001b[0;36m_vjp\u001b[0;34m(fun, has_aux, reduce_axes, *primals)\u001b[0m\n\u001b[1;32m   2655\u001b[0m     \u001b[0mflat_fun\u001b[0m\u001b[0;34m,\u001b[0m \u001b[0mout_tree\u001b[0m \u001b[0;34m=\u001b[0m \u001b[0mflatten_fun_nokwargs\u001b[0m\u001b[0;34m(\u001b[0m\u001b[0mfun\u001b[0m\u001b[0;34m,\u001b[0m \u001b[0min_tree\u001b[0m\u001b[0;34m)\u001b[0m\u001b[0;34m\u001b[0m\u001b[0;34m\u001b[0m\u001b[0m\n\u001b[0;32m-> 2656\u001b[0;31m     out_primal, out_vjp = ad.vjp(\n\u001b[0m\u001b[1;32m   2657\u001b[0m         flat_fun, primals_flat, reduce_axes=reduce_axes)\n",
            "\u001b[0;32m/usr/local/lib/python3.8/dist-packages/jax/interpreters/ad.py\u001b[0m in \u001b[0;36mvjp\u001b[0;34m(traceable, primals, has_aux, reduce_axes)\u001b[0m\n\u001b[1;32m    134\u001b[0m   \u001b[0;32mif\u001b[0m \u001b[0;32mnot\u001b[0m \u001b[0mhas_aux\u001b[0m\u001b[0;34m:\u001b[0m\u001b[0;34m\u001b[0m\u001b[0;34m\u001b[0m\u001b[0m\n\u001b[0;32m--> 135\u001b[0;31m     \u001b[0mout_primals\u001b[0m\u001b[0;34m,\u001b[0m \u001b[0mpvals\u001b[0m\u001b[0;34m,\u001b[0m \u001b[0mjaxpr\u001b[0m\u001b[0;34m,\u001b[0m \u001b[0mconsts\u001b[0m \u001b[0;34m=\u001b[0m \u001b[0mlinearize\u001b[0m\u001b[0;34m(\u001b[0m\u001b[0mtraceable\u001b[0m\u001b[0;34m,\u001b[0m \u001b[0;34m*\u001b[0m\u001b[0mprimals\u001b[0m\u001b[0;34m)\u001b[0m\u001b[0;34m\u001b[0m\u001b[0;34m\u001b[0m\u001b[0m\n\u001b[0m\u001b[1;32m    136\u001b[0m   \u001b[0;32melse\u001b[0m\u001b[0;34m:\u001b[0m\u001b[0;34m\u001b[0m\u001b[0;34m\u001b[0m\u001b[0m\n",
            "\u001b[0;32m/usr/local/lib/python3.8/dist-packages/jax/interpreters/ad.py\u001b[0m in \u001b[0;36mlinearize\u001b[0;34m(traceable, *primals, **kwargs)\u001b[0m\n\u001b[1;32m    123\u001b[0m   \u001b[0mjvpfun_flat\u001b[0m\u001b[0;34m,\u001b[0m \u001b[0mout_tree\u001b[0m \u001b[0;34m=\u001b[0m \u001b[0mflatten_fun\u001b[0m\u001b[0;34m(\u001b[0m\u001b[0mjvpfun\u001b[0m\u001b[0;34m,\u001b[0m \u001b[0min_tree\u001b[0m\u001b[0;34m)\u001b[0m\u001b[0;34m\u001b[0m\u001b[0;34m\u001b[0m\u001b[0m\n\u001b[0;32m--> 124\u001b[0;31m   \u001b[0mjaxpr\u001b[0m\u001b[0;34m,\u001b[0m \u001b[0mout_pvals\u001b[0m\u001b[0;34m,\u001b[0m \u001b[0mconsts\u001b[0m \u001b[0;34m=\u001b[0m \u001b[0mpe\u001b[0m\u001b[0;34m.\u001b[0m\u001b[0mtrace_to_jaxpr_nounits\u001b[0m\u001b[0;34m(\u001b[0m\u001b[0mjvpfun_flat\u001b[0m\u001b[0;34m,\u001b[0m \u001b[0min_pvals\u001b[0m\u001b[0;34m)\u001b[0m\u001b[0;34m\u001b[0m\u001b[0;34m\u001b[0m\u001b[0m\n\u001b[0m\u001b[1;32m    125\u001b[0m   \u001b[0mout_primals_pvals\u001b[0m\u001b[0;34m,\u001b[0m \u001b[0mout_tangents_pvals\u001b[0m \u001b[0;34m=\u001b[0m \u001b[0mtree_unflatten\u001b[0m\u001b[0;34m(\u001b[0m\u001b[0mout_tree\u001b[0m\u001b[0;34m(\u001b[0m\u001b[0;34m)\u001b[0m\u001b[0;34m,\u001b[0m \u001b[0mout_pvals\u001b[0m\u001b[0;34m)\u001b[0m\u001b[0;34m\u001b[0m\u001b[0;34m\u001b[0m\u001b[0m\n",
            "\u001b[0;32m/usr/local/lib/python3.8/dist-packages/jax/_src/profiler.py\u001b[0m in \u001b[0;36mwrapper\u001b[0;34m(*args, **kwargs)\u001b[0m\n\u001b[1;32m    313\u001b[0m     \u001b[0;32mwith\u001b[0m \u001b[0mTraceAnnotation\u001b[0m\u001b[0;34m(\u001b[0m\u001b[0mname\u001b[0m\u001b[0;34m,\u001b[0m \u001b[0;34m**\u001b[0m\u001b[0mdecorator_kwargs\u001b[0m\u001b[0;34m)\u001b[0m\u001b[0;34m:\u001b[0m\u001b[0;34m\u001b[0m\u001b[0;34m\u001b[0m\u001b[0m\n\u001b[0;32m--> 314\u001b[0;31m       \u001b[0;32mreturn\u001b[0m \u001b[0mfunc\u001b[0m\u001b[0;34m(\u001b[0m\u001b[0;34m*\u001b[0m\u001b[0margs\u001b[0m\u001b[0;34m,\u001b[0m \u001b[0;34m**\u001b[0m\u001b[0mkwargs\u001b[0m\u001b[0;34m)\u001b[0m\u001b[0;34m\u001b[0m\u001b[0;34m\u001b[0m\u001b[0m\n\u001b[0m\u001b[1;32m    315\u001b[0m     \u001b[0;32mreturn\u001b[0m \u001b[0mwrapper\u001b[0m\u001b[0;34m\u001b[0m\u001b[0;34m\u001b[0m\u001b[0m\n",
            "\u001b[0;32m/usr/local/lib/python3.8/dist-packages/jax/interpreters/partial_eval.py\u001b[0m in \u001b[0;36mtrace_to_jaxpr_nounits\u001b[0;34m(fun, pvals, instantiate)\u001b[0m\n\u001b[1;32m    766\u001b[0m     \u001b[0mfun\u001b[0m \u001b[0;34m=\u001b[0m \u001b[0mtrace_to_subjaxpr_nounits\u001b[0m\u001b[0;34m(\u001b[0m\u001b[0mfun\u001b[0m\u001b[0;34m,\u001b[0m \u001b[0mmain\u001b[0m\u001b[0;34m,\u001b[0m \u001b[0minstantiate\u001b[0m\u001b[0;34m)\u001b[0m\u001b[0;34m\u001b[0m\u001b[0;34m\u001b[0m\u001b[0m\n\u001b[0;32m--> 767\u001b[0;31m     \u001b[0mjaxpr\u001b[0m\u001b[0;34m,\u001b[0m \u001b[0;34m(\u001b[0m\u001b[0mout_pvals\u001b[0m\u001b[0;34m,\u001b[0m \u001b[0mconsts\u001b[0m\u001b[0;34m,\u001b[0m \u001b[0menv\u001b[0m\u001b[0;34m)\u001b[0m \u001b[0;34m=\u001b[0m \u001b[0mfun\u001b[0m\u001b[0;34m.\u001b[0m\u001b[0mcall_wrapped\u001b[0m\u001b[0;34m(\u001b[0m\u001b[0mpvals\u001b[0m\u001b[0;34m)\u001b[0m\u001b[0;34m\u001b[0m\u001b[0;34m\u001b[0m\u001b[0m\n\u001b[0m\u001b[1;32m    768\u001b[0m     \u001b[0;32massert\u001b[0m \u001b[0;32mnot\u001b[0m \u001b[0menv\u001b[0m\u001b[0;34m\u001b[0m\u001b[0;34m\u001b[0m\u001b[0m\n",
            "\u001b[0;32m/usr/local/lib/python3.8/dist-packages/jax/linear_util.py\u001b[0m in \u001b[0;36mcall_wrapped\u001b[0;34m(self, *args, **kwargs)\u001b[0m\n\u001b[1;32m    166\u001b[0m     \u001b[0;32mtry\u001b[0m\u001b[0;34m:\u001b[0m\u001b[0;34m\u001b[0m\u001b[0;34m\u001b[0m\u001b[0m\n\u001b[0;32m--> 167\u001b[0;31m       \u001b[0mans\u001b[0m \u001b[0;34m=\u001b[0m \u001b[0mself\u001b[0m\u001b[0;34m.\u001b[0m\u001b[0mf\u001b[0m\u001b[0;34m(\u001b[0m\u001b[0;34m*\u001b[0m\u001b[0margs\u001b[0m\u001b[0;34m,\u001b[0m \u001b[0;34m**\u001b[0m\u001b[0mdict\u001b[0m\u001b[0;34m(\u001b[0m\u001b[0mself\u001b[0m\u001b[0;34m.\u001b[0m\u001b[0mparams\u001b[0m\u001b[0;34m,\u001b[0m \u001b[0;34m**\u001b[0m\u001b[0mkwargs\u001b[0m\u001b[0;34m)\u001b[0m\u001b[0;34m)\u001b[0m\u001b[0;34m\u001b[0m\u001b[0;34m\u001b[0m\u001b[0m\n\u001b[0m\u001b[1;32m    168\u001b[0m     \u001b[0;32mexcept\u001b[0m\u001b[0;34m:\u001b[0m\u001b[0;34m\u001b[0m\u001b[0;34m\u001b[0m\u001b[0m\n",
            "\u001b[0;32m/usr/local/lib/python3.8/dist-packages/scipy/stats/_distn_infrastructure.py\u001b[0m in \u001b[0;36mlogpdf\u001b[0;34m(self, x, *args, **kwds)\u001b[0m\n\u001b[1;32m   1907\u001b[0m         \u001b[0margs\u001b[0m\u001b[0;34m,\u001b[0m \u001b[0mloc\u001b[0m\u001b[0;34m,\u001b[0m \u001b[0mscale\u001b[0m \u001b[0;34m=\u001b[0m \u001b[0mself\u001b[0m\u001b[0;34m.\u001b[0m\u001b[0m_parse_args\u001b[0m\u001b[0;34m(\u001b[0m\u001b[0;34m*\u001b[0m\u001b[0margs\u001b[0m\u001b[0;34m,\u001b[0m \u001b[0;34m**\u001b[0m\u001b[0mkwds\u001b[0m\u001b[0;34m)\u001b[0m\u001b[0;34m\u001b[0m\u001b[0;34m\u001b[0m\u001b[0m\n\u001b[0;32m-> 1908\u001b[0;31m         \u001b[0mx\u001b[0m\u001b[0;34m,\u001b[0m \u001b[0mloc\u001b[0m\u001b[0;34m,\u001b[0m \u001b[0mscale\u001b[0m \u001b[0;34m=\u001b[0m \u001b[0mmap\u001b[0m\u001b[0;34m(\u001b[0m\u001b[0masarray\u001b[0m\u001b[0;34m,\u001b[0m \u001b[0;34m(\u001b[0m\u001b[0mx\u001b[0m\u001b[0;34m,\u001b[0m \u001b[0mloc\u001b[0m\u001b[0;34m,\u001b[0m \u001b[0mscale\u001b[0m\u001b[0;34m)\u001b[0m\u001b[0;34m)\u001b[0m\u001b[0;34m\u001b[0m\u001b[0;34m\u001b[0m\u001b[0m\n\u001b[0m\u001b[1;32m   1909\u001b[0m         \u001b[0margs\u001b[0m \u001b[0;34m=\u001b[0m \u001b[0mtuple\u001b[0m\u001b[0;34m(\u001b[0m\u001b[0mmap\u001b[0m\u001b[0;34m(\u001b[0m\u001b[0masarray\u001b[0m\u001b[0;34m,\u001b[0m \u001b[0margs\u001b[0m\u001b[0;34m)\u001b[0m\u001b[0;34m)\u001b[0m\u001b[0;34m\u001b[0m\u001b[0;34m\u001b[0m\u001b[0m\n",
            "\u001b[0;32m/usr/local/lib/python3.8/dist-packages/jax/core.py\u001b[0m in \u001b[0;36m__array__\u001b[0;34m(self, *args, **kw)\u001b[0m\n\u001b[1;32m    540\u001b[0m   \u001b[0;32mdef\u001b[0m \u001b[0m__array__\u001b[0m\u001b[0;34m(\u001b[0m\u001b[0mself\u001b[0m\u001b[0;34m,\u001b[0m \u001b[0;34m*\u001b[0m\u001b[0margs\u001b[0m\u001b[0;34m,\u001b[0m \u001b[0;34m**\u001b[0m\u001b[0mkw\u001b[0m\u001b[0;34m)\u001b[0m\u001b[0;34m:\u001b[0m\u001b[0;34m\u001b[0m\u001b[0;34m\u001b[0m\u001b[0m\n\u001b[0;32m--> 541\u001b[0;31m     \u001b[0;32mraise\u001b[0m \u001b[0mTracerArrayConversionError\u001b[0m\u001b[0;34m(\u001b[0m\u001b[0mself\u001b[0m\u001b[0;34m)\u001b[0m\u001b[0;34m\u001b[0m\u001b[0;34m\u001b[0m\u001b[0m\n\u001b[0m\u001b[1;32m    542\u001b[0m \u001b[0;34m\u001b[0m\u001b[0m\n",
            "\u001b[0;31mUnfilteredStackTrace\u001b[0m: jax._src.errors.TracerArrayConversionError: The numpy.ndarray conversion method __array__() was called on the JAX Tracer object Traced<ConcreteArray([0.], dtype=float32)>with<JVPTrace(level=2/0)> with\n  primal = DeviceArray([0.], dtype=float32)\n  tangent = Traced<ShapedArray(float32[1])>with<JaxprTrace(level=1/0)> with\n    pval = (ShapedArray(float32[1]), None)\n    recipe = LambdaBinding()\nSee https://jax.readthedocs.io/en/latest/errors.html#jax.errors.TracerArrayConversionError\n\nThe stack trace below excludes JAX-internal frames.\nThe preceding is the original exception that occurred, unmodified.\n\n--------------------",
            "\nThe above exception was the direct cause of the following exception:\n",
            "\u001b[0;31mTracerArrayConversionError\u001b[0m                Traceback (most recent call last)",
            "\u001b[0;32m<ipython-input-15-c096330ec458>\u001b[0m in \u001b[0;36m<module>\u001b[0;34m\u001b[0m\n\u001b[1;32m      1\u001b[0m \u001b[0;31m#Attention: one decimal place\u001b[0m\u001b[0;34m\u001b[0m\u001b[0;34m\u001b[0m\u001b[0;34m\u001b[0m\u001b[0m\n\u001b[0;32m----> 2\u001b[0;31m \u001b[0mgaussian_score\u001b[0m\u001b[0;34m(\u001b[0m\u001b[0mjnp\u001b[0m\u001b[0;34m.\u001b[0m\u001b[0masarray\u001b[0m\u001b[0;34m(\u001b[0m\u001b[0;34m[\u001b[0m\u001b[0;36m.0\u001b[0m\u001b[0;34m]\u001b[0m\u001b[0;34m)\u001b[0m\u001b[0;34m)\u001b[0m\u001b[0;34m\u001b[0m\u001b[0;34m\u001b[0m\u001b[0m\n\u001b[0m",
            "\u001b[0;32m/usr/local/lib/python3.8/dist-packages/scipy/stats/_distn_infrastructure.py\u001b[0m in \u001b[0;36mlogpdf\u001b[0;34m(self, x, *args, **kwds)\u001b[0m\n\u001b[1;32m   1906\u001b[0m         \"\"\"\n\u001b[1;32m   1907\u001b[0m         \u001b[0margs\u001b[0m\u001b[0;34m,\u001b[0m \u001b[0mloc\u001b[0m\u001b[0;34m,\u001b[0m \u001b[0mscale\u001b[0m \u001b[0;34m=\u001b[0m \u001b[0mself\u001b[0m\u001b[0;34m.\u001b[0m\u001b[0m_parse_args\u001b[0m\u001b[0;34m(\u001b[0m\u001b[0;34m*\u001b[0m\u001b[0margs\u001b[0m\u001b[0;34m,\u001b[0m \u001b[0;34m**\u001b[0m\u001b[0mkwds\u001b[0m\u001b[0;34m)\u001b[0m\u001b[0;34m\u001b[0m\u001b[0;34m\u001b[0m\u001b[0m\n\u001b[0;32m-> 1908\u001b[0;31m         \u001b[0mx\u001b[0m\u001b[0;34m,\u001b[0m \u001b[0mloc\u001b[0m\u001b[0;34m,\u001b[0m \u001b[0mscale\u001b[0m \u001b[0;34m=\u001b[0m \u001b[0mmap\u001b[0m\u001b[0;34m(\u001b[0m\u001b[0masarray\u001b[0m\u001b[0;34m,\u001b[0m \u001b[0;34m(\u001b[0m\u001b[0mx\u001b[0m\u001b[0;34m,\u001b[0m \u001b[0mloc\u001b[0m\u001b[0;34m,\u001b[0m \u001b[0mscale\u001b[0m\u001b[0;34m)\u001b[0m\u001b[0;34m)\u001b[0m\u001b[0;34m\u001b[0m\u001b[0;34m\u001b[0m\u001b[0m\n\u001b[0m\u001b[1;32m   1909\u001b[0m         \u001b[0margs\u001b[0m \u001b[0;34m=\u001b[0m \u001b[0mtuple\u001b[0m\u001b[0;34m(\u001b[0m\u001b[0mmap\u001b[0m\u001b[0;34m(\u001b[0m\u001b[0masarray\u001b[0m\u001b[0;34m,\u001b[0m \u001b[0margs\u001b[0m\u001b[0;34m)\u001b[0m\u001b[0;34m)\u001b[0m\u001b[0;34m\u001b[0m\u001b[0;34m\u001b[0m\u001b[0m\n\u001b[1;32m   1910\u001b[0m         \u001b[0mdtyp\u001b[0m \u001b[0;34m=\u001b[0m \u001b[0mnp\u001b[0m\u001b[0;34m.\u001b[0m\u001b[0mfind_common_type\u001b[0m\u001b[0;34m(\u001b[0m\u001b[0;34m[\u001b[0m\u001b[0mx\u001b[0m\u001b[0;34m.\u001b[0m\u001b[0mdtype\u001b[0m\u001b[0;34m,\u001b[0m \u001b[0mnp\u001b[0m\u001b[0;34m.\u001b[0m\u001b[0mfloat64\u001b[0m\u001b[0;34m]\u001b[0m\u001b[0;34m,\u001b[0m \u001b[0;34m[\u001b[0m\u001b[0;34m]\u001b[0m\u001b[0;34m)\u001b[0m\u001b[0;34m\u001b[0m\u001b[0;34m\u001b[0m\u001b[0m\n",
            "\u001b[0;31mTracerArrayConversionError\u001b[0m: The numpy.ndarray conversion method __array__() was called on the JAX Tracer object Traced<ConcreteArray([0.], dtype=float32)>with<JVPTrace(level=2/0)> with\n  primal = DeviceArray([0.], dtype=float32)\n  tangent = Traced<ShapedArray(float32[1])>with<JaxprTrace(level=1/0)> with\n    pval = (ShapedArray(float32[1]), None)\n    recipe = LambdaBinding()\nSee https://jax.readthedocs.io/en/latest/errors.html#jax.errors.TracerArrayConversionError"
          ]
        }
      ]
    },
    {
      "cell_type": "code",
      "source": [
        "def get_dlogp(x):\n",
        "  n = len(x)\n",
        "  list = []\n",
        "  for i in range(0,n):\n",
        "    grad = np.array(gaussian_score(x[i]))\n",
        "    list = np.append(list,[grad])\n",
        "  \n",
        "  return list"
      ],
      "metadata": {
        "id": "FWugZYBqxveY"
      },
      "execution_count": null,
      "outputs": []
    },
    {
      "cell_type": "code",
      "source": [
        "x = get_dlogp(data)"
      ],
      "metadata": {
        "id": "CEiTIvE3ydlo"
      },
      "execution_count": null,
      "outputs": []
    },
    {
      "cell_type": "code",
      "source": [
        "#Plotting the Results\n",
        "plt.plot(data, x , color = 'red')\n",
        "plt.xlabel('Data points')\n",
        "plt.ylabel('Score functions values')"
      ],
      "metadata": {
        "id": "HxijS4DA2CBr"
      },
      "execution_count": null,
      "outputs": []
    },
    {
      "cell_type": "code",
      "source": [
        "from jax import random\n",
        "\n",
        "key = random.PRNGKey(44)\n",
        "\n",
        "true_mu = 5.3\n",
        "true_sigma = 2.1\n",
        "\n",
        "data = random.normal(key,shape=(1000,1)) * true_sigma + true_mu\n",
        "data[0:5]"
      ],
      "metadata": {
        "id": "y9Y6Drai3GK-",
        "colab": {
          "base_uri": "https://localhost:8080/"
        },
        "outputId": "1376d06d-39ae-4148-b858-f805d6e492df"
      },
      "execution_count": null,
      "outputs": [
        {
          "output_type": "execute_result",
          "data": {
            "text/plain": [
              "DeviceArray([[0.72608757],\n",
              "             [7.1064787 ],\n",
              "             [1.9587264 ],\n",
              "             [6.2289076 ],\n",
              "             [5.808235  ]], dtype=float32)"
            ]
          },
          "metadata": {},
          "execution_count": 48
        }
      ]
    },
    {
      "cell_type": "code",
      "source": [
        "data.mean(),data.std()"
      ],
      "metadata": {
        "colab": {
          "base_uri": "https://localhost:8080/"
        },
        "id": "IkwgUwCn4XrK",
        "outputId": "d037ba31-c858-4782-c78e-ec7a009470d8"
      },
      "execution_count": null,
      "outputs": [
        {
          "output_type": "execute_result",
          "data": {
            "text/plain": [
              "(DeviceArray(5.297202, dtype=float32), DeviceArray(2.1414611, dtype=float32))"
            ]
          },
          "metadata": {},
          "execution_count": 19
        }
      ]
    },
    {
      "cell_type": "code",
      "source": [
        "!pip install Equinox"
      ],
      "metadata": {
        "colab": {
          "base_uri": "https://localhost:8080/"
        },
        "id": "nD4viaHe_HLh",
        "outputId": "57845b3f-c93b-48cc-f674-5f4019597b44"
      },
      "execution_count": null,
      "outputs": [
        {
          "output_type": "stream",
          "name": "stdout",
          "text": [
            "Looking in indexes: https://pypi.org/simple, https://us-python.pkg.dev/colab-wheels/public/simple/\n",
            "Collecting Equinox\n",
            "  Downloading equinox-0.9.2-py3-none-any.whl (88 kB)\n",
            "\u001b[2K     \u001b[90m━━━━━━━━━━━━━━━━━━━━━━━━━━━━━━━━━━━━━━━━\u001b[0m \u001b[32m88.3/88.3 KB\u001b[0m \u001b[31m5.2 MB/s\u001b[0m eta \u001b[36m0:00:00\u001b[0m\n",
            "\u001b[?25hCollecting jaxtyping>=0.2.5\n",
            "  Downloading jaxtyping-0.2.11-py3-none-any.whl (19 kB)\n",
            "Requirement already satisfied: jax>=0.3.4 in /usr/local/lib/python3.8/dist-packages (from Equinox) (0.3.25)\n",
            "Requirement already satisfied: opt-einsum in /usr/local/lib/python3.8/dist-packages (from jax>=0.3.4->Equinox) (3.3.0)\n",
            "Requirement already satisfied: numpy>=1.20 in /usr/local/lib/python3.8/dist-packages (from jax>=0.3.4->Equinox) (1.21.6)\n",
            "Requirement already satisfied: typing-extensions in /usr/local/lib/python3.8/dist-packages (from jax>=0.3.4->Equinox) (4.4.0)\n",
            "Requirement already satisfied: scipy>=1.5 in /usr/local/lib/python3.8/dist-packages (from jax>=0.3.4->Equinox) (1.7.3)\n",
            "Collecting typeguard>=2.13.3\n",
            "  Downloading typeguard-2.13.3-py3-none-any.whl (17 kB)\n",
            "Installing collected packages: typeguard, jaxtyping, Equinox\n",
            "  Attempting uninstall: typeguard\n",
            "    Found existing installation: typeguard 2.7.1\n",
            "    Uninstalling typeguard-2.7.1:\n",
            "      Successfully uninstalled typeguard-2.7.1\n",
            "Successfully installed Equinox-0.9.2 jaxtyping-0.2.11 typeguard-2.13.3\n"
          ]
        }
      ]
    },
    {
      "cell_type": "code",
      "source": [
        "from functools import partial\n",
        "\n",
        "import equinox as eqx\n",
        "from jax import jacfwd\n",
        "from jax import numpy as np\n",
        "from jax import vmap\n",
        "from jax.scipy.stats import norm\n",
        "\n",
        "class GaussianModel(eqx.Module):\n",
        "    \"\"\"Univariate Gaussian score function.\"\"\"\n",
        "\n",
        "    mu: np.array = np.array(0.0)\n",
        "    log_sigma: np.array = np.array(0.0)\n",
        "\n",
        "    @eqx.filter_jit\n",
        "    def __call__(self, x):\n",
        "        \"\"\"Forward pass.\n",
        "\n",
        "        :param x: Data. Should be of shape (1, :),\n",
        "            where `1` is in the batch dimension slot.\n",
        "            as the model is intended to be vmapped over batches of data.\n",
        "        :returns: Score of a Gaussian conditioned on a `mu` and `log_sigma`.\n",
        "        \"\"\"\n",
        "\n",
        "        #Jacobian instead of grad\n",
        "        gaussian_score_func = jacfwd(norm.logpdf)\n",
        "        return gaussian_score_func(x, loc=self.mu, scale=np.exp(self.log_sigma))"
      ],
      "metadata": {
        "id": "wsqgldjw4zIT"
      },
      "execution_count": null,
      "outputs": []
    },
    {
      "cell_type": "code",
      "source": [
        "def GaussianModel_my(x,mu,log_sigma):\n",
        "  gaussian_score_function = jacfwd(norm.logpdf)\n",
        "  return gaussian_score_function(x,loc=mu,scale=np.exp(log_sigma))"
      ],
      "metadata": {
        "id": "58iA77_T_dmx"
      },
      "execution_count": null,
      "outputs": []
    },
    {
      "cell_type": "code",
      "source": [
        "gaussian_model = GaussianModel()\n",
        "\n",
        "gaussian_model(-3.0)"
      ],
      "metadata": {
        "colab": {
          "base_uri": "https://localhost:8080/"
        },
        "id": "6uuhjiQpDEzZ",
        "outputId": "bfce246a-294f-46d6-f3ca-885549229959"
      },
      "execution_count": null,
      "outputs": [
        {
          "output_type": "execute_result",
          "data": {
            "text/plain": [
              "DeviceArray(3., dtype=float32, weak_type=True)"
            ]
          },
          "metadata": {},
          "execution_count": 22
        }
      ]
    },
    {
      "cell_type": "code",
      "source": [
        "GaussianModel_my(-3.0,0,0)"
      ],
      "metadata": {
        "id": "VpzpCS3mAFI0"
      },
      "execution_count": null,
      "outputs": []
    },
    {
      "cell_type": "code",
      "source": [
        "!pip install optax"
      ],
      "metadata": {
        "colab": {
          "base_uri": "https://localhost:8080/"
        },
        "id": "Qb-rkG38E4IU",
        "outputId": "1e040d81-8949-472d-b563-2f1137465f91"
      },
      "execution_count": null,
      "outputs": [
        {
          "output_type": "stream",
          "name": "stdout",
          "text": [
            "Looking in indexes: https://pypi.org/simple, https://us-python.pkg.dev/colab-wheels/public/simple/\n",
            "Collecting optax\n",
            "  Downloading optax-0.1.4-py3-none-any.whl (154 kB)\n",
            "\u001b[2K     \u001b[90m━━━━━━━━━━━━━━━━━━━━━━━━━━━━━━━━━━━━━━━\u001b[0m \u001b[32m154.9/154.9 KB\u001b[0m \u001b[31m7.3 MB/s\u001b[0m eta \u001b[36m0:00:00\u001b[0m\n",
            "\u001b[?25hRequirement already satisfied: numpy>=1.18.0 in /usr/local/lib/python3.8/dist-packages (from optax) (1.21.6)\n",
            "Requirement already satisfied: absl-py>=0.7.1 in /usr/local/lib/python3.8/dist-packages (from optax) (1.3.0)\n",
            "Requirement already satisfied: jaxlib>=0.1.37 in /usr/local/lib/python3.8/dist-packages (from optax) (0.3.25+cuda11.cudnn805)\n",
            "Requirement already satisfied: typing-extensions>=3.10.0 in /usr/local/lib/python3.8/dist-packages (from optax) (4.4.0)\n",
            "Collecting chex>=0.1.5\n",
            "  Downloading chex-0.1.5-py3-none-any.whl (85 kB)\n",
            "\u001b[2K     \u001b[90m━━━━━━━━━━━━━━━━━━━━━━━━━━━━━━━━━━━━━━━━\u001b[0m \u001b[32m85.3/85.3 KB\u001b[0m \u001b[31m11.3 MB/s\u001b[0m eta \u001b[36m0:00:00\u001b[0m\n",
            "\u001b[?25hRequirement already satisfied: jax>=0.1.55 in /usr/local/lib/python3.8/dist-packages (from optax) (0.3.25)\n",
            "Requirement already satisfied: dm-tree>=0.1.5 in /usr/local/lib/python3.8/dist-packages (from chex>=0.1.5->optax) (0.1.8)\n",
            "Requirement already satisfied: toolz>=0.9.0 in /usr/local/lib/python3.8/dist-packages (from chex>=0.1.5->optax) (0.12.0)\n",
            "Requirement already satisfied: scipy>=1.5 in /usr/local/lib/python3.8/dist-packages (from jax>=0.1.55->optax) (1.7.3)\n",
            "Requirement already satisfied: opt-einsum in /usr/local/lib/python3.8/dist-packages (from jax>=0.1.55->optax) (3.3.0)\n",
            "Installing collected packages: chex, optax\n",
            "Successfully installed chex-0.1.5 optax-0.1.4\n"
          ]
        }
      ]
    },
    {
      "cell_type": "code",
      "source": [
        "\"\"\"Training loop defined here.\"\"\"\n",
        "from typing import Callable, List, Tuple\n",
        "\n",
        "import equinox as eqx\n",
        "import optax\n",
        "from jax import numpy as np\n",
        "from tqdm.auto import tqdm\n",
        "\n",
        "\n",
        "def fit(\n",
        "    model: eqx.Module,\n",
        "    data: np.ndarray,\n",
        "    loss: Callable,\n",
        "    optimizer: optax.GradientTransformation,\n",
        "    steps: int = 1_000,\n",
        "    progress_bar: bool = True,\n",
        ") -> Tuple[eqx.Module, List]:\n",
        "    \"\"\"Fit model to data.\n",
        "    :param model: An Equinox Module.\n",
        "    :param data: Data to fit to of shape (batch, :)\n",
        "    :param loss: Loss function.\n",
        "    :param optimizer: The optimizer to use.\n",
        "    :param steps: Number of steps to train for.\n",
        "    :param progress_bar: Whether or not to show a progress bar.\n",
        "        Defaults to True.\n",
        "    :returns: A tuple of updated model + training loss history.\n",
        "    \"\"\"\n",
        "    opt_state = optimizer.init(eqx.filter(model, eqx.is_array))\n",
        "    dloss = eqx.filter_jit(eqx.filter_value_and_grad(loss))\n",
        "\n",
        "    @eqx.filter_jit\n",
        "    def step(model, data, opt_state):\n",
        "        \"\"\"One step of training loop.\n",
        "        This closure is jitted to make training run really fast.\n",
        "        :param model: An Equinox Module.\n",
        "        :param data: Data to fit to of shape (batch, :)\n",
        "        :param opt_state: State of optimizer.\n",
        "        :returns: Stuff. (TODO)\n",
        "        \"\"\"\n",
        "        loss_score, grads = dloss(model, data)\n",
        "        updates, opt_state = optimizer.update(grads, opt_state)\n",
        "        model = eqx.apply_updates(model, updates)\n",
        "        return model, opt_state, loss_score\n",
        "\n",
        "    loss_history = []\n",
        "    iterator = range(steps)\n",
        "    if progress_bar:\n",
        "        iterator = tqdm(iterator)\n",
        "    for _ in iterator:\n",
        "        model, opt_state, loss_score = step(model, data, opt_state)\n",
        "        loss_history.append(loss_score)\n",
        "    return model, loss_history"
      ],
      "metadata": {
        "id": "SfyOyJ4CE1Q_"
      },
      "execution_count": null,
      "outputs": []
    },
    {
      "cell_type": "code",
      "source": [
        "import equinox as eqx\n",
        "import jax.numpy as np\n",
        "from jax import jacfwd, vmap\n",
        "\n",
        "\n",
        "def score_matching_loss(model: eqx.Module, batch: np.ndarray) -> float:\n",
        "    \"\"\"Score matching loss function.\n",
        "    This is taken from (Hyvärinen, 2005) (JMLR)\n",
        "    and https://yang-song.github.io/blog/2019/ssm/.\n",
        "    :param model: An Equinox Module.\n",
        "    :param batch: A batch of data. Should be of shape (batch, :),\n",
        "        where `:` refers to at least 1 more dimension.\n",
        "    :returns: Score matching loss, a float.\n",
        "    \"\"\"\n",
        "\n",
        "    #Jacobian of input model\n",
        "    dmodel = jacfwd(model)\n",
        "\n",
        "    # Jacobian of score function (i.e. dlogp estimator function).\n",
        "    # In the literature, this is also called the Hessian of the logp.\n",
        "    # (Recall that the Hessian is the 2nd derivative, while the Jacobian is the 1st.)\n",
        "    # The Jacobian shape is: `(n,n)`,\n",
        "    # where `n` is the number of dimensions of the input data,\n",
        "    # or the number of random variables.\n",
        "    # Here, we want the diagonals instead, which when extracted out, is of shape (i,)\n",
        "    # Only extract diagonals means dy_i/dx_i\n",
        "    term1 = vmap(dmodel)(batch)\n",
        "    if len(term1.shape) == 2 and term1.shape[-1] == 1:\n",
        "        term1 = np.expand_dims(term1, -1)\n",
        "    term1 = vmap(np.diagonal)(term1)\n",
        "\n",
        "    # Discretized integral of score function.\n",
        "    term2 = 0.5 * vmap(model)(batch) ** 2\n",
        "    term2 = np.reshape(term2, term1.shape)\n",
        "\n",
        "    # Summation over the inner term, by commutative property of addition,\n",
        "    # automagically gives us the trace of the Jacobian of the score function.\n",
        "    # Yang Song's blog post refers to the trace\n",
        "    # (final equation in the section\n",
        "    # \"Learning unnormalized models with score matching\"),\n",
        "    # while Hyvärinen's JMLR paper uses an explicit summation in Equation 4.\n",
        "    inner_term = term1 + term2\n",
        "    summed_by_dims = vmap(np.sum)(inner_term)\n",
        "    return jnp.mean(summed_by_dims)"
      ],
      "metadata": {
        "id": "Md2wzNSHE8ch"
      },
      "execution_count": null,
      "outputs": []
    },
    {
      "cell_type": "code",
      "source": [
        "def score_matching_loss_my(model,data):\n",
        "  dmodel = jacfwd(model)\n",
        "  term1 = dmodel(data)\n",
        "\n",
        "  return term1"
      ],
      "metadata": {
        "id": "LM2E5KyEHEr7"
      },
      "execution_count": null,
      "outputs": []
    },
    {
      "cell_type": "code",
      "source": [
        "optimizer = optax.adam(learning_rate=5e-3)\n",
        "updated_model, loss_history = fit(\n",
        "    gaussian_model, \n",
        "    data, \n",
        "    score_matching_loss, \n",
        "    optimizer, \n",
        "    steps=2_000, \n",
        "    progress_bar=False\n",
        ")"
      ],
      "metadata": {
        "id": "Jobf6_-kFGY8"
      },
      "execution_count": null,
      "outputs": []
    },
    {
      "cell_type": "code",
      "source": [
        "import seaborn as sns"
      ],
      "metadata": {
        "id": "HabKnznlFT6V"
      },
      "execution_count": null,
      "outputs": []
    },
    {
      "cell_type": "code",
      "source": [
        "fig, axes = plt.subplots(figsize=(8, 4), ncols=2)\n",
        "\n",
        "\n",
        "plt.sca(axes[0])\n",
        "plt.plot(loss_history)\n",
        "plt.xlabel(\"Training Iteration\")\n",
        "plt.ylabel(\"Score Matching Loss\")\n",
        "plt.title(\"Score Matching Loss History\")\n",
        "sns.despine()\n",
        "\n",
        "plt.sca(axes[1])\n",
        "updated_model_scores = vmap(updated_model)(data)\n",
        "true_model_scores = vmap(gaussian_model)(data)\n",
        "plt.scatter(updated_model_scores.squeeze(), true_model_scores.squeeze())\n",
        "plt.xlabel(\"Estimated Scores\")\n",
        "plt.ylabel(\"True Model\")\n",
        "plt.title(\"True vs. Estimated Score\")\n",
        "sns.despine()"
      ],
      "metadata": {
        "colab": {
          "base_uri": "https://localhost:8080/",
          "height": 295
        },
        "id": "ListdyykFShh",
        "outputId": "9ae4f0de-f982-4765-fb3e-6e44986464e3"
      },
      "execution_count": null,
      "outputs": [
        {
          "output_type": "display_data",
          "data": {
            "text/plain": [
              "<Figure size 576x288 with 2 Axes>"
            ],
            "image/png": "[encoded data removed]"
          },
          "metadata": {
            "needs_background": "light"
          }
        }
      ]
    },
    {
      "cell_type": "code",
      "source": [
        "import numpy as np\n",
        "import matplotlib.pyplot as plt\n",
        "\n",
        "def tweedie(n,p,mu,phi):\n",
        "    #checking the value of variance power between 1-2\n",
        "    result = np.full(n, np.nan)\n",
        "    # calculating mean of poisson distribution\n",
        "    lambdaa = mu ** (2 - p) / (phi * (2 - p))\n",
        "    # shape parameter of gamma distribution\n",
        "    alpha = (2 - p) / (1 - p)\n",
        "    # scale parameter of gamma distribution\n",
        "    gam = phi * (p - 1) * ( mu ** (p - 1))\n",
        "    # Generating Poisson random sample\n",
        "    rs = np.random.poisson(lambdaa, n)\n",
        "    for i in range(n):\n",
        "    # Generate single data point of gamma distribution using poisson random variable\n",
        "        result[i] = np.random.gamma(rs[i] * np.abs(alpha), gam, 1)\n",
        "    return result\n",
        "\n",
        "x = tweedie(10000, 1.2, 3, 2)\n",
        "plt.hist(x, bins=100)\n",
        "plt.show()"
      ],
      "metadata": {
        "id": "pd4YeVpOh8sI",
        "colab": {
          "base_uri": "https://localhost:8080/",
          "height": 265
        },
        "outputId": "65ef396c-4c40-4c51-faf3-83db162e7200"
      },
      "execution_count": null,
      "outputs": [
        {
          "output_type": "display_data",
          "data": {
            "text/plain": [
              "<Figure size 432x288 with 1 Axes>"
            ],
            "image/png": "[encoded data removed]"
          },
          "metadata": {
            "needs_background": "light"
          }
        }
      ]
    },
    {
      "cell_type": "code",
      "source": [
        "import jax\n",
        "\n",
        "x = x.reshape(10000,1)\n",
        "x = jax.numpy.asarray(x)"
      ],
      "metadata": {
        "id": "uByR0vh8o5wp"
      },
      "execution_count": null,
      "outputs": []
    },
    {
      "cell_type": "code",
      "source": [
        "class MixtureGaussian(eqx.Module):\n",
        "    \"\"\"Mixture Gaussian score function.\"\"\"\n",
        "\n",
        "    mus: np.array\n",
        "    log_sigmas: np.array\n",
        "    ws: np.array\n",
        "\n",
        "    def __init__(self, mus, log_sigmas, ws):\n",
        "        self.mus = mus\n",
        "        self.log_sigmas = log_sigmas\n",
        "        self.ws = ws\n",
        "\n",
        "        # Check that mus, log_sigmas, and ws are of the same length.\n",
        "        lengths = set(map(len, [mus, log_sigmas, ws]))\n",
        "        if len(lengths) != 1:\n",
        "            raise ValueError(\n",
        "                \"`mus`, `log_sigmas` and `ws` must all be of the same length!\"\n",
        "            )\n",
        "\n",
        "    @eqx.filter_jit\n",
        "    def __call__(self, x):\n",
        "        \"\"\"Forward pass.\n",
        "\n",
        "        :param x: Data. Should be of shape (1, :),\n",
        "            where `1` is in the batch dimension slot.\n",
        "            as the model is intended to be vmapped over batches of data.\n",
        "        :returns: Score of a Gaussian conditioned on a `mu` and `log_sigma`.\n",
        "        \"\"\"\n",
        "        return partial(\n",
        "            dmixture_logpdf,\n",
        "            mus=self.mus,\n",
        "            sigmas=np.exp(self.log_sigmas),\n",
        "            ws=self.ws,\n",
        "        )(x)\n",
        "\n",
        "def mixture_pdf(x, mus, sigmas, ws):\n",
        "    \"\"\"Mixture likelihood.\n",
        "    :param x: Data. Should be of shape (1, :),\n",
        "        as the model is intended to be vmapped over batches of data.\n",
        "    :param mus: Mixture component locations.\n",
        "    :param sigmas: Mixture component scales.\n",
        "    :param ws: Mixture component weights.\n",
        "    :returns: The likelihood of a mixture PDF evaluated at `x`.\n",
        "    \"\"\"\n",
        "    component_pdfs = vmap(partial(norm.pdf, x))(mus, sigmas)  # 2, n_draws)\n",
        "    scaled_component_pdfs = vmap(np.multiply)(component_pdfs, ws)\n",
        "    total_pdf = np.sum(scaled_component_pdfs, axis=0)\n",
        "    return total_pdf\n",
        "\n",
        "\n",
        "def mixture_logpdf(x, mus, sigmas, ws):\n",
        "    \"\"\"Mixture loglikelihood.\n",
        "    :param x: Data. Should be of shape (1, :),\n",
        "        as the model is intended to be vmapped over batches of data.\n",
        "    :param mus: Mixture component locations.\n",
        "    :param sigmas: Mixture component scales.\n",
        "    :param ws: Mixture component weights.\n",
        "    :returns: The log likelihood of a mixture PDF evaluated at `x`.\n",
        "    \"\"\"\n",
        "    return np.log(mixture_pdf(x, mus, sigmas, ws))\n",
        "\n",
        "\n",
        "dmixture_logpdf = jacfwd(mixture_logpdf, argnums=0)"
      ],
      "metadata": {
        "id": "Zx9iwl4fqODM"
      },
      "execution_count": null,
      "outputs": []
    },
    {
      "cell_type": "code",
      "source": [
        "import seaborn as sns \n",
        "import numpy as onp \n",
        "\n",
        "x = np.linspace(-10, 10, 200)\n",
        "mus = np.array([-3, 3])\n",
        "sigmas = np.array([1, 1])\n",
        "ws = np.array([0.1, 0.9])\n",
        "\n",
        "mgmodel = MixtureGaussian(mus, np.log(sigmas), ws)\n",
        "mixture_logpdf_grads = vmap(mgmodel)(x)\n",
        "\n",
        "\n",
        "fig, axes = plt.subplots(figsize=(8, 4), ncols=2)\n",
        "\n",
        "plt.sca(axes[0])\n",
        "k1, k2 = random.split(random.PRNGKey(55))\n",
        "draws = 1000\n",
        "mix1 = random.normal(k1, shape=(1000,)) * 1 - 3\n",
        "mix2 = random.normal(k2, shape=(9000,)) * 1 + 3\n",
        "data = np.concatenate([mix1, mix2]).reshape(-1, 1)\n",
        "plt.hist(onp.array(data), bins=100)\n",
        "plt.title(\"Mixture Gaussian Histogram\")\n",
        "plt.xlabel(\"Support\")\n",
        "plt.ylabel(\"Count\")\n",
        "sns.despine()\n",
        "\n",
        "plt.sca(axes[1])\n",
        "plt.plot(x, mixture_logpdf_grads)\n",
        "plt.xlabel(\"Support\")\n",
        "plt.ylabel(\"Score\")\n",
        "plt.title(\"Mixture Gaussian Score\")\n",
        "sns.despine()"
      ],
      "metadata": {
        "colab": {
          "base_uri": "https://localhost:8080/",
          "height": 295
        },
        "id": "ZkeqHqKHjYhT",
        "outputId": "9c479cdc-a062-41c5-9437-73da1e92a969"
      },
      "execution_count": null,
      "outputs": [
        {
          "output_type": "display_data",
          "data": {
            "text/plain": [
              "<Figure size 576x288 with 2 Axes>"
            ],
            "image/png": "[encoded data removed]"
          },
          "metadata": {
            "needs_background": "light"
          }
        }
      ]
    },
    {
      "cell_type": "code",
      "source": [
        "from jax import nn\n",
        "from jax import random\n",
        "\n",
        "class FeedForwardModel1D(eqx.Module):\n",
        "    \"\"\"Feed-forward NN model.\"\"\"\n",
        "\n",
        "    mlp: eqx.Module\n",
        "\n",
        "    def __init__(\n",
        "        self,\n",
        "        in_size=1,\n",
        "        out_size=1,\n",
        "        width_size=4096,\n",
        "        depth=1,\n",
        "        activation=nn.relu,\n",
        "        key=random.PRNGKey(45),\n",
        "    ):\n",
        "        self.mlp = eqx.nn.MLP(\n",
        "            in_size=in_size,\n",
        "            out_size=out_size,\n",
        "            width_size=width_size,\n",
        "            depth=depth,\n",
        "            activation=activation,\n",
        "            key=key,\n",
        "        )\n",
        "\n",
        "    @eqx.filter_jit\n",
        "    def __call__(self, x):\n",
        "        \"\"\"Forward pass.\n",
        "\n",
        "        :param x: Data. Should be of shape (1, :),\n",
        "            as the model is intended to be vmapped over batches of data.\n",
        "        :returns: Estimated score of a Gaussian.\n",
        "        \"\"\"\n",
        "        return self.mlp(x)"
      ],
      "metadata": {
        "id": "gb-kIaonnXTw"
      },
      "execution_count": null,
      "outputs": []
    },
    {
      "cell_type": "code",
      "source": [
        "\"\"\"Utility loss functions.\"\"\"\n",
        "from typing import Callable, Union\n",
        "\n",
        "import equinox as eqx\n",
        "import jax.numpy as np\n",
        "from jax.tree_util import tree_flatten, tree_map\n",
        "\n",
        "\n",
        "def l2_norm(\n",
        "    model: Union[eqx.Module, Callable], batch: np.ndarray, scale: float = 0.1\n",
        ") -> float:\n",
        "    \"\"\"Return the sum of square of weights.\n",
        "    Allows for L2 norm-based regularization of weight parameter.\n",
        "    Intended to be used as part of a loss function.\n",
        "    Example:\n",
        "    >>> from score_models.losses import l2_norm\n",
        "    >>> param = [(0.5, 0.3), (0.1, -1.3)]\n",
        "    >>> l2_norm(param)\n",
        "    DeviceArray(2.0399997, dtype=float32)\n",
        "    :param model: An Equinox Module.\n",
        "    :param batch: Present only for compatibility with the rest of the loss functions.\n",
        "    :param scale: The scale of L2 regularization to apply. Defaults to 0.1\n",
        "    :returns: L2 norm.\n",
        "    \"\"\"\n",
        "    # Test: tree-map np.sum to get weight regularization term\n",
        "    model = eqx.filter(model, eqx.is_array_like)\n",
        "    squared = tree_map(lambda x: np.power(x, 2), model)\n",
        "    summed = tree_map(np.sum, squared)\n",
        "    flattened, _ = tree_flatten(summed)\n",
        "    return np.sum(np.array(flattened)) * scale\n",
        "\n",
        "\n",
        "def chain(*loss_funcs):\n",
        "    \"\"\"Chain loss functions together.\n",
        "    All loss funcs must have the signature loss(model, batch).\n",
        "    :param loss_funcs: Loss functions to chain together.\n",
        "    :returns: A closure.\n",
        "    \"\"\"\n",
        "\n",
        "    def chained(model, batch):\n",
        "        \"\"\"Chained loss function.\n",
        "        This loss simply adds up the losses computed by\n",
        "        the loss functions defined in the outer function.\n",
        "        :param model: Equinox model.\n",
        "        :param batch: A batch of data.\n",
        "        :returns: Total loss across all loss functions.\n",
        "        \"\"\"\n",
        "        loss_score = 0\n",
        "        for loss in loss_funcs:\n",
        "            loss_score += loss(model, batch)\n",
        "        return loss_score\n",
        "\n",
        "    return chained"
      ],
      "metadata": {
        "id": "72eHy5NJnlPV"
      },
      "execution_count": null,
      "outputs": []
    },
    {
      "cell_type": "code",
      "source": [
        "regularized_loss = chain(\n",
        "    l2_norm, \n",
        "    score_matching_loss\n",
        ")"
      ],
      "metadata": {
        "id": "e-i9WsztoBZ-"
      },
      "execution_count": null,
      "outputs": []
    },
    {
      "cell_type": "code",
      "source": [
        "ffmodel = FeedForwardModel1D(depth=2, width_size=512, activation=nn.softplus)\n",
        "optimizer = optax.chain(\n",
        "    optax.clip(0.0001),\n",
        "    optax.sgd(learning_rate=5e-3),\n",
        ")\n",
        "updated_model, history = fit(\n",
        "    ffmodel,\n",
        "    data,\n",
        "    score_matching_loss,\n",
        "    optimizer,\n",
        "    steps=5_000,\n",
        "    progress_bar=True,\n",
        ")"
      ],
      "metadata": {
        "colab": {
          "base_uri": "https://localhost:8080/",
          "height": 412,
          "referenced_widgets": [
            "1c9bd15587144bbfbb0c83663035b80d",
            "ba5b07c1d7e345159f331b197669eda4",
            "bc07a69b5b324072aea4225f2781949a",
            "129e1fde7d284782b710d0f12cb4d8fd",
            "e4b4a0db046346d58b59a3f770b7ca4d",
            "8c5a18ed2827402f93224c365a242bcd",
            "b424cd27e26f424e862a647313a001d1",
            "5deaf92d98a547bb865339e066fb17fb",
            "043fe8cbdc2a4d02ae2a7ac2a07f2de6",
            "82a9e2d235454cbea01d8841c0918942",
            "1b9ddccafaa94d5dac6d7c9bff1e1f15"
          ]
        },
        "id": "Hpj1oz13oSmR",
        "outputId": "6c88f90d-427f-4200-e544-ba2206def1b4"
      },
      "execution_count": null,
      "outputs": [
        {
          "output_type": "display_data",
          "data": {
            "text/plain": [
              "  0%|          | 0/5000 [00:00<?, ?it/s]"
            ],
            "application/vnd.jupyter.widget-view+json": {
              "version_major": 2,
              "version_minor": 0,
              "model_id": "1c9bd15587144bbfbb0c83663035b80d"
            }
          },
          "metadata": {}
        },
        {
          "output_type": "error",
          "ename": "KeyboardInterrupt",
          "evalue": "ignored",
          "traceback": [
            "\u001b[0;31m---------------------------------------------------------------------------\u001b[0m",
            "\u001b[0;31mKeyboardInterrupt\u001b[0m                         Traceback (most recent call last)",
            "\u001b[0;32m<ipython-input-75-b93ac93d755e>\u001b[0m in \u001b[0;36m<module>\u001b[0;34m\u001b[0m\n\u001b[1;32m      4\u001b[0m     \u001b[0moptax\u001b[0m\u001b[0;34m.\u001b[0m\u001b[0msgd\u001b[0m\u001b[0;34m(\u001b[0m\u001b[0mlearning_rate\u001b[0m\u001b[0;34m=\u001b[0m\u001b[0;36m5e-3\u001b[0m\u001b[0;34m)\u001b[0m\u001b[0;34m,\u001b[0m\u001b[0;34m\u001b[0m\u001b[0;34m\u001b[0m\u001b[0m\n\u001b[1;32m      5\u001b[0m )\n\u001b[0;32m----> 6\u001b[0;31m updated_model, history = fit(\n\u001b[0m\u001b[1;32m      7\u001b[0m     \u001b[0mffmodel\u001b[0m\u001b[0;34m,\u001b[0m\u001b[0;34m\u001b[0m\u001b[0;34m\u001b[0m\u001b[0m\n\u001b[1;32m      8\u001b[0m     \u001b[0mdata\u001b[0m\u001b[0;34m,\u001b[0m\u001b[0;34m\u001b[0m\u001b[0;34m\u001b[0m\u001b[0m\n",
            "\u001b[0;32m<ipython-input-32-2ef614308eb2>\u001b[0m in \u001b[0;36mfit\u001b[0;34m(model, data, loss, optimizer, steps, progress_bar)\u001b[0m\n\u001b[1;32m     48\u001b[0m         \u001b[0miterator\u001b[0m \u001b[0;34m=\u001b[0m \u001b[0mtqdm\u001b[0m\u001b[0;34m(\u001b[0m\u001b[0miterator\u001b[0m\u001b[0;34m)\u001b[0m\u001b[0;34m\u001b[0m\u001b[0;34m\u001b[0m\u001b[0m\n\u001b[1;32m     49\u001b[0m     \u001b[0;32mfor\u001b[0m \u001b[0m_\u001b[0m \u001b[0;32min\u001b[0m \u001b[0miterator\u001b[0m\u001b[0;34m:\u001b[0m\u001b[0;34m\u001b[0m\u001b[0;34m\u001b[0m\u001b[0m\n\u001b[0;32m---> 50\u001b[0;31m         \u001b[0mmodel\u001b[0m\u001b[0;34m,\u001b[0m \u001b[0mopt_state\u001b[0m\u001b[0;34m,\u001b[0m \u001b[0mloss_score\u001b[0m \u001b[0;34m=\u001b[0m \u001b[0mstep\u001b[0m\u001b[0;34m(\u001b[0m\u001b[0mmodel\u001b[0m\u001b[0;34m,\u001b[0m \u001b[0mdata\u001b[0m\u001b[0;34m,\u001b[0m \u001b[0mopt_state\u001b[0m\u001b[0;34m)\u001b[0m\u001b[0;34m\u001b[0m\u001b[0;34m\u001b[0m\u001b[0m\n\u001b[0m\u001b[1;32m     51\u001b[0m         \u001b[0mloss_history\u001b[0m\u001b[0;34m.\u001b[0m\u001b[0mappend\u001b[0m\u001b[0;34m(\u001b[0m\u001b[0mloss_score\u001b[0m\u001b[0;34m)\u001b[0m\u001b[0;34m\u001b[0m\u001b[0;34m\u001b[0m\u001b[0m\n\u001b[1;32m     52\u001b[0m     \u001b[0;32mreturn\u001b[0m \u001b[0mmodel\u001b[0m\u001b[0;34m,\u001b[0m \u001b[0mloss_history\u001b[0m\u001b[0;34m\u001b[0m\u001b[0;34m\u001b[0m\u001b[0m\n",
            "\u001b[0;32m/usr/local/lib/python3.8/dist-packages/equinox/jit.py\u001b[0m in \u001b[0;36m__call__\u001b[0;34m(_JitWrapper__self, *args, **kwargs)\u001b[0m\n\u001b[1;32m     80\u001b[0m \u001b[0;34m\u001b[0m\u001b[0m\n\u001b[1;32m     81\u001b[0m     \u001b[0;32mdef\u001b[0m \u001b[0m__call__\u001b[0m\u001b[0;34m(\u001b[0m\u001b[0m__self\u001b[0m\u001b[0;34m,\u001b[0m \u001b[0;34m*\u001b[0m\u001b[0margs\u001b[0m\u001b[0;34m,\u001b[0m \u001b[0;34m**\u001b[0m\u001b[0mkwargs\u001b[0m\u001b[0;34m)\u001b[0m\u001b[0;34m:\u001b[0m\u001b[0;34m\u001b[0m\u001b[0;34m\u001b[0m\u001b[0m\n\u001b[0;32m---> 82\u001b[0;31m         \u001b[0;32mreturn\u001b[0m \u001b[0m__self\u001b[0m\u001b[0;34m.\u001b[0m\u001b[0m_fun_wrapper\u001b[0m\u001b[0;34m(\u001b[0m\u001b[0;32mFalse\u001b[0m\u001b[0;34m,\u001b[0m \u001b[0margs\u001b[0m\u001b[0;34m,\u001b[0m \u001b[0mkwargs\u001b[0m\u001b[0;34m)\u001b[0m\u001b[0;34m\u001b[0m\u001b[0;34m\u001b[0m\u001b[0m\n\u001b[0m\u001b[1;32m     83\u001b[0m \u001b[0;34m\u001b[0m\u001b[0m\n\u001b[1;32m     84\u001b[0m     \u001b[0;32mdef\u001b[0m \u001b[0mlower\u001b[0m\u001b[0;34m(\u001b[0m\u001b[0m__self\u001b[0m\u001b[0;34m,\u001b[0m \u001b[0;34m*\u001b[0m\u001b[0margs\u001b[0m\u001b[0;34m,\u001b[0m \u001b[0;34m**\u001b[0m\u001b[0mkwargs\u001b[0m\u001b[0;34m)\u001b[0m\u001b[0;34m:\u001b[0m\u001b[0;34m\u001b[0m\u001b[0;34m\u001b[0m\u001b[0m\n",
            "\u001b[0;32m/usr/local/lib/python3.8/dist-packages/equinox/jit.py\u001b[0m in \u001b[0;36m_fun_wrapper\u001b[0;34m(self, is_lower, args, kwargs)\u001b[0m\n\u001b[1;32m     76\u001b[0m             \u001b[0;32mreturn\u001b[0m \u001b[0mself\u001b[0m\u001b[0;34m.\u001b[0m\u001b[0m_cached\u001b[0m\u001b[0;34m.\u001b[0m\u001b[0mlower\u001b[0m\u001b[0;34m(\u001b[0m\u001b[0mdynamic\u001b[0m\u001b[0;34m,\u001b[0m \u001b[0mstatic\u001b[0m\u001b[0;34m)\u001b[0m\u001b[0;34m\u001b[0m\u001b[0;34m\u001b[0m\u001b[0m\n\u001b[1;32m     77\u001b[0m         \u001b[0;32melse\u001b[0m\u001b[0;34m:\u001b[0m\u001b[0;34m\u001b[0m\u001b[0;34m\u001b[0m\u001b[0m\n\u001b[0;32m---> 78\u001b[0;31m             \u001b[0mdynamic_out\u001b[0m\u001b[0;34m,\u001b[0m \u001b[0mstatic_out\u001b[0m \u001b[0;34m=\u001b[0m \u001b[0mself\u001b[0m\u001b[0;34m.\u001b[0m\u001b[0m_cached\u001b[0m\u001b[0;34m(\u001b[0m\u001b[0mdynamic\u001b[0m\u001b[0;34m,\u001b[0m \u001b[0mstatic\u001b[0m\u001b[0;34m)\u001b[0m\u001b[0;34m\u001b[0m\u001b[0;34m\u001b[0m\u001b[0m\n\u001b[0m\u001b[1;32m     79\u001b[0m             \u001b[0;32mreturn\u001b[0m \u001b[0mcombine\u001b[0m\u001b[0;34m(\u001b[0m\u001b[0mdynamic_out\u001b[0m\u001b[0;34m,\u001b[0m \u001b[0mstatic_out\u001b[0m\u001b[0;34m.\u001b[0m\u001b[0mvalue\u001b[0m\u001b[0;34m)\u001b[0m\u001b[0;34m\u001b[0m\u001b[0;34m\u001b[0m\u001b[0m\n\u001b[1;32m     80\u001b[0m \u001b[0;34m\u001b[0m\u001b[0m\n",
            "\u001b[0;32m/usr/local/lib/python3.8/dist-packages/equinox/module.py\u001b[0m in \u001b[0;36mtree_unflatten\u001b[0;34m(cls, aux, dynamic_field_values)\u001b[0m\n\u001b[1;32m    260\u001b[0m         )\n\u001b[1;32m    261\u001b[0m \u001b[0;34m\u001b[0m\u001b[0m\n\u001b[0;32m--> 262\u001b[0;31m     \u001b[0;34m@\u001b[0m\u001b[0mclassmethod\u001b[0m\u001b[0;34m\u001b[0m\u001b[0;34m\u001b[0m\u001b[0m\n\u001b[0m\u001b[1;32m    263\u001b[0m     \u001b[0;32mdef\u001b[0m \u001b[0mtree_unflatten\u001b[0m\u001b[0;34m(\u001b[0m\u001b[0mcls\u001b[0m\u001b[0;34m,\u001b[0m \u001b[0maux\u001b[0m\u001b[0;34m,\u001b[0m \u001b[0mdynamic_field_values\u001b[0m\u001b[0;34m)\u001b[0m\u001b[0;34m:\u001b[0m\u001b[0;34m\u001b[0m\u001b[0;34m\u001b[0m\u001b[0m\n\u001b[1;32m    264\u001b[0m         \u001b[0mself\u001b[0m \u001b[0;34m=\u001b[0m \u001b[0mcls\u001b[0m\u001b[0;34m.\u001b[0m\u001b[0m__new__\u001b[0m\u001b[0;34m(\u001b[0m\u001b[0mcls\u001b[0m\u001b[0;34m)\u001b[0m\u001b[0;34m\u001b[0m\u001b[0;34m\u001b[0m\u001b[0m\n",
            "\u001b[0;31mKeyboardInterrupt\u001b[0m: "
          ]
        }
      ]
    },
    {
      "cell_type": "code",
      "source": [
        "fig, axes = plt.subplots(figsize=(8, 4), ncols=2)\n",
        "\n",
        "plt.sca(axes[0])\n",
        "plt.plot(loss_history)\n",
        "plt.xlabel(\"Training Iteration\")\n",
        "plt.ylabel(\"Loss Value\")\n",
        "plt.title(\"Score Matching Loss History\")\n",
        "sns.despine()\n",
        "\n",
        "plt.sca(axes[1])\n",
        "true_model_scores = vmap(mgmodel)(data).squeeze()\n",
        "updated_model_scores = vmap(updated_model)(data).squeeze()\n",
        "plt.scatter(data.squeeze(), true_model_scores, label=\"True Model Scores\")\n",
        "plt.scatter(data.squeeze(), updated_model_scores, label=\"Feed Forward Estimate\")\n",
        "plt.xlabel(\"Support\")\n",
        "plt.ylabel(\"Score\")\n",
        "plt.title(\"True vs. Estimated Score\")\n",
        "plt.legend()\n",
        "sns.despine()"
      ],
      "metadata": {
        "colab": {
          "base_uri": "https://localhost:8080/",
          "height": 295
        },
        "id": "1UtC1jiukKk1",
        "outputId": "2afc58d6-6383-4cf9-df49-b033a837370b"
      },
      "execution_count": null,
      "outputs": [
        {
          "output_type": "display_data",
          "data": {
            "text/plain": [
              "<Figure size 576x288 with 2 Axes>"
            ],
            "image/png": "[encoded data removed]"
          },
          "metadata": {
            "needs_background": "light"
          }
        }
      ]
    },
    {
      "cell_type": "code",
      "source": [
        "ffmodel = FeedForwardModel1D(depth=2, width_size=512, activation=nn.relu)\n",
        "optimizer = optax.chain(\n",
        "    optax.clip(0.0001),\n",
        "    optax.sgd(learning_rate=5e-3),\n",
        ")\n",
        "updated_model, history = fit(\n",
        "    ffmodel,\n",
        "    x,\n",
        "    score_matching_loss,\n",
        "    optimizer,\n",
        "    steps=5_000,\n",
        "    progress_bar=True,\n",
        ")"
      ],
      "metadata": {
        "colab": {
          "base_uri": "https://localhost:8080/",
          "height": 49,
          "referenced_widgets": [
            "a70aba1b66f349e08ee6122634f55696",
            "731f391dbf6246ceba382dfb434b8c5c",
            "1673dc3622ea4aa9a7c80c9b05e22f6b",
            "10b2b612cc4b48fdb8d2ed558c9219b7",
            "9cdb7d271b2c490bb18378546c5857cc",
            "26c56f9fde8a4f0ea52ac021fd82445e",
            "4e8e9d0a389b4d7cbac228648ec9de50",
            "e944de0115454f0bbd4cb8edf28aa72e",
            "7fff407e58ac4224860ee43f278e64b5",
            "a4e4a7ae7fc84459a9841ca15378503e",
            "67a36c3c6fa741e084ae9ffd01dc3a2c"
          ]
        },
        "id": "pa7SsWu5sMtN",
        "outputId": "8ff02637-532a-438a-8973-cf7e68279c28"
      },
      "execution_count": null,
      "outputs": [
        {
          "output_type": "display_data",
          "data": {
            "text/plain": [
              "  0%|          | 0/5000 [00:00<?, ?it/s]"
            ],
            "application/vnd.jupyter.widget-view+json": {
              "version_major": 2,
              "version_minor": 0,
              "model_id": "a70aba1b66f349e08ee6122634f55696"
            }
          },
          "metadata": {}
        }
      ]
    },
    {
      "cell_type": "code",
      "source": [
        "fig, axes = plt.subplots(figsize=(8, 4), ncols=2)\n",
        "\n",
        "\n",
        "\n",
        "plt.sca(axes[1])\n",
        "updated_model_scores = vmap(updated_model)(x).squeeze()\n",
        "plt.scatter(x.squeeze(), updated_model_scores, label=\"Feed Forward Estimate\")\n",
        "plt.xlabel(\"Support\")\n",
        "plt.ylabel(\"Score\")\n",
        "plt.title(\"Estimated Score\")\n",
        "sns.despine()"
      ],
      "metadata": {
        "colab": {
          "base_uri": "https://localhost:8080/",
          "height": 295
        },
        "id": "F-vmCF3yr_oo",
        "outputId": "83b8c880-cd5b-4bf7-f5ca-fe6f27dca122"
      },
      "execution_count": null,
      "outputs": [
        {
          "output_type": "display_data",
          "data": {
            "text/plain": [
              "<Figure size 576x288 with 2 Axes>"
            ],
            "image/png": "[encoded data removed]"
          },
          "metadata": {
            "needs_background": "light"
          }
        }
      ]
    },
    {
      "cell_type": "markdown",
      "source": [
        "## Langevin dynamics"
      ],
      "metadata": {
        "id": "F8HMB-aBup-v"
      }
    },
    {
      "cell_type": "code",
      "source": [
        "from jax import random\n",
        "import numpy as np\n",
        "\n",
        "def langevin_dynamics_step(prev_x, score_func, epsilon, key):\n",
        "    \"\"\"One step of Langevin dynamics sampling.\"\"\"\n",
        "    draw = random.normal(key)\n",
        "    new_x = prev_x + epsilon * score_func(prev_x) + np.sqrt(2 * epsilon) * draw\n",
        "    return new_x"
      ],
      "metadata": {
        "id": "2_B9R21supJO"
      },
      "execution_count": null,
      "outputs": []
    },
    {
      "cell_type": "code",
      "source": [
        "from jax import jit, lax\n",
        "\n",
        "class LangevinDynamicsChain(eqx.Module):\n",
        "    \"\"\"Langevin dynamics chain.\"\"\"\n",
        "\n",
        "    gradient_func: eqx.Module\n",
        "    n_samples: int = 10000\n",
        "    epsilon: float = 5e-3\n",
        "\n",
        "    @eqx.filter_jit\n",
        "    def __call__(self, x, key: random.PRNGKey):\n",
        "        \"\"\"Callable implementation for sampling.\n",
        "\n",
        "        :param x: Data of shape (batch, :).\n",
        "        :param key: PRNGKey for random draws.\n",
        "        :returns: A tuple of final draw and historical draws.\"\"\"\n",
        "\n",
        "        def langevin_step(prev_x, key):\n",
        "            \"\"\"Scannable langevin dynamics step.\n",
        "\n",
        "            :param prev_x: Previous value of x in langevin dynamics step.\n",
        "            :param key: PRNGKey for random draws.\n",
        "            :returns: A tuple of new x and previous x.\n",
        "            \"\"\"\n",
        "            draw = random.normal(key, shape=x.shape)\n",
        "            new_x = (\n",
        "                prev_x\n",
        "                + self.epsilon * vmap(self.gradient_func)(prev_x)\n",
        "                + np.sqrt(2 * self.epsilon) * draw\n",
        "            )\n",
        "            return new_x, prev_x\n",
        "\n",
        "        keys = random.split(key, self.n_samples)\n",
        "        final_xs, xs = lax.scan(langevin_step, init=x, xs=keys)\n",
        "        return final_xs, jnp.vstack(xs)"
      ],
      "metadata": {
        "id": "_1F7auwPuzPX"
      },
      "execution_count": null,
      "outputs": []
    },
    {
      "cell_type": "markdown",
      "source": [
        "### Single chain sampling"
      ],
      "metadata": {
        "id": "HCK3OBv3vCF4"
      }
    },
    {
      "cell_type": "code",
      "source": [
        "trained_model_sampler = LangevinDynamicsChain(gradient_func=updated_model, epsilon=5e-1)\n",
        "key = random.PRNGKey(55)\n",
        "final, trained_samples = trained_model_sampler(jnp.asarray([[2.0]]), key)\n",
        "\n",
        "untrained_model_sampler = LangevinDynamicsChain(gradient_func=ffmodel, epsilon=5e-1)\n",
        "final, untrained_samples = untrained_model_sampler(jnp.array([[2.0]]), key)"
      ],
      "metadata": {
        "id": "Lo6yFXbZu6D_"
      },
      "execution_count": null,
      "outputs": []
    },
    {
      "cell_type": "code",
      "source": [
        "fig, axes = plt.subplots(figsize=(8, 2.5), ncols=3, sharex=True)\n",
        "\n",
        "plt.sca(axes[0])\n",
        "plt.hist(np.array(untrained_samples), bins=100)\n",
        "plt.title(\"(a) Untrained\")\n",
        "plt.xlabel(\"Support\")\n",
        "\n",
        "plt.sca(axes[1])\n",
        "plt.hist(np.array(trained_samples), bins=100)\n",
        "plt.title(\"(b) Trained\")\n",
        "plt.xlabel(\"Support\")\n",
        "\n",
        "plt.sca(axes[2])\n",
        "plt.hist(np.array(x), bins=100)\n",
        "plt.ylim((0,300))\n",
        "plt.title(\"(c) Original data\")\n",
        "plt.xlabel(\"Support\")\n",
        "\n",
        "sns.despine()"
      ],
      "metadata": {
        "colab": {
          "base_uri": "https://localhost:8080/",
          "height": 214
        },
        "id": "SEwvHLRUvhEz",
        "outputId": "cbe0586b-9724-4885-860c-e1ec69f7da28"
      },
      "execution_count": null,
      "outputs": [
        {
          "output_type": "display_data",
          "data": {
            "text/plain": [
              "<Figure size 576x180 with 3 Axes>"
            ],
            "image/png": "[encoded data removed]"
          },
          "metadata": {
            "needs_background": "light"
          }
        }
      ]
    }
  ]
}